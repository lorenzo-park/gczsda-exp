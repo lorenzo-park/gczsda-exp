{
 "cells": [
  {
   "cell_type": "code",
   "execution_count": 1,
   "metadata": {},
   "outputs": [
    {
     "name": "stderr",
     "output_type": "stream",
     "text": [
      "Global seed set to 10\n"
     ]
    }
   ],
   "source": [
    "import pytorch_lightning as pl\n",
    "pl.seed_everything(10)\n",
    "\n",
    "from sklearn.manifold import TSNE\n",
    "from torch.utils.data import DataLoader\n",
    "from tqdm import tqdm\n",
    "\n",
    "import torch\n",
    "import torchvision\n",
    "\n",
    "import torchvision.datasets as datasets\n",
    "import torchvision.transforms as transforms\n",
    "import matplotlib.pyplot as plt\n",
    "import numpy as np\n",
    "import pandas as pd\n",
    "import seaborn as sns\n",
    "import torch.nn.functional as F\n",
    "\n",
    "from dataset.digit import ChanDup, CENDataset\n",
    "from pl_module.zsgcada import LitZSGCADA"
   ]
  },
  {
   "cell_type": "code",
   "execution_count": 2,
   "metadata": {},
   "outputs": [],
   "source": [
    "class ZSGCADAConfig:\n",
    "    checkpoint_filename = [\n",
    "        \"zsgcada-lenet-epoch=05-task=digit-val_loss_tgt=1.4880.ckpt\",\n",
    "    ]\n",
    "    lambda_noise: None\n",
    "    device=\"cuda:1\"\n",
    "    \n",
    "    root=\"/shared/lorenzo/mnist-zsda/MNIST_G\"\n",
    "    root_tgt=\"/shared/lorenzo/mnist-zsda/MNIST_C\"\n",
    "    \n",
    "    model_name=\"zsgcada\"\n",
    "    backbone_name=\"lenet\"\n",
    "    \n",
    "    root_tgt_train=\"/shared/lorenzo/mnist-zsda/FashionMNIST_C\"\n",
    "    num_blocks=9\n",
    "    hidden_dim_dsc=32\n",
    "    lambda_idt=1.0\n",
    "    lambda_sem=0.0\n",
    "    transformation=\"rotate\"\n",
    "    beta1=0.5\n",
    "    pretrained=\"/root/dezsda/checkpoints/timm-lenet-epoch=03-task=digit-val_loss=0.0297.ckpt\"\n",
    "    fix_block_up=False\n",
    "    lambda_sem_idt=10.0\n",
    "    sem_idt_per_epoch=1\n",
    "    \n",
    "    lr_enc_multi: 1.0\n",
    "    lr_dsc_multi: 1.0\n",
    "    lambda_rec: 1.0\n",
    "    lambda_cross: 1.0\n",
    "\n",
    "    lr = 1e-3\n",
    "    optimizer = \"adam\"\n",
    "    batch_size = 64\n",
    "    max_epochs = 50\n",
    "    grad_accum = 1\n",
    "    es_patience = None\n",
    "    task=\"digit\"\n",
    "    img_size = 28\n",
    "    fold_no = 0\n",
    "    num_workers = 8\n",
    "    channels = 3\n",
    "    logger = True\n",
    "    seed = 42\n",
    "    project = \"csi-har\"\n",
    "    checkpoint_dir = \"/root/dezsda/checkpoints\"\n",
    "    gpus = 1\n",
    "    num_classes=10\n",
    "    num_test_sets=4\n",
    "\n",
    "    assert root.split(\"/\")[-1].split(\"_\")[0] == root_tgt.split(\"/\")[-1].split(\"_\")[0]\n",
    "    translated_dir=f\"/shared/lorenzo/mnist-zsda/{root.split('/')[-1].split('_')[0]}_{root.split('/')[-1].split('_')[-1]}{root_tgt.split('/')[-1].split('_')[-1]}\"\n",
    "    \n",
    "config = ZSGCADAConfig()"
   ]
  },
  {
   "cell_type": "code",
   "execution_count": 3,
   "metadata": {},
   "outputs": [
    {
     "ename": "FileNotFoundError",
     "evalue": "[Errno 2] No such file or directory: '/shared/lorenzo/checkpoints/zsgcada-lenet-epoch=05-task=digit-val_loss_tgt=1.4880.ckpt'",
     "output_type": "error",
     "traceback": [
      "\u001b[0;31m---------------------------------------------------------------------------\u001b[0m",
      "\u001b[0;31mFileNotFoundError\u001b[0m                         Traceback (most recent call last)",
      "\u001b[0;32m/tmp/ipykernel_79418/1836362554.py\u001b[0m in \u001b[0;36m<module>\u001b[0;34m\u001b[0m\n\u001b[1;32m      1\u001b[0m \u001b[0mcf\u001b[0m \u001b[0;34m=\u001b[0m \u001b[0mconfig\u001b[0m\u001b[0;34m.\u001b[0m\u001b[0mcheckpoint_filename\u001b[0m\u001b[0;34m[\u001b[0m\u001b[0;36m0\u001b[0m\u001b[0;34m]\u001b[0m\u001b[0;34m\u001b[0m\u001b[0;34m\u001b[0m\u001b[0m\n\u001b[0;32m----> 2\u001b[0;31m \u001b[0mpl_model\u001b[0m \u001b[0;34m=\u001b[0m \u001b[0mLitZSGCADA\u001b[0m\u001b[0;34m.\u001b[0m\u001b[0mload_from_checkpoint\u001b[0m\u001b[0;34m(\u001b[0m\u001b[0;34mf\"/shared/lorenzo/checkpoints/{cf}\"\u001b[0m\u001b[0;34m,\u001b[0m \u001b[0mconfig\u001b[0m\u001b[0;34m=\u001b[0m\u001b[0mconfig\u001b[0m\u001b[0;34m)\u001b[0m\u001b[0;34m\u001b[0m\u001b[0;34m\u001b[0m\u001b[0m\n\u001b[0m\u001b[1;32m      3\u001b[0m \u001b[0mmodel\u001b[0m \u001b[0;34m=\u001b[0m \u001b[0mpl_model\u001b[0m\u001b[0;34m.\u001b[0m\u001b[0mmodel\u001b[0m\u001b[0;34m\u001b[0m\u001b[0;34m\u001b[0m\u001b[0m\n\u001b[1;32m      4\u001b[0m \u001b[0mmodel\u001b[0m\u001b[0;34m.\u001b[0m\u001b[0meval\u001b[0m\u001b[0;34m(\u001b[0m\u001b[0;34m)\u001b[0m\u001b[0;34m\u001b[0m\u001b[0;34m\u001b[0m\u001b[0m\n\u001b[1;32m      5\u001b[0m \u001b[0;32mNone\u001b[0m\u001b[0;34m\u001b[0m\u001b[0;34m\u001b[0m\u001b[0m\n",
      "\u001b[0;32m~/anaconda3/envs/tubuki/lib/python3.7/site-packages/pytorch_lightning/core/saving.py\u001b[0m in \u001b[0;36mload_from_checkpoint\u001b[0;34m(cls, checkpoint_path, map_location, hparams_file, strict, **kwargs)\u001b[0m\n\u001b[1;32m    133\u001b[0m             \u001b[0mcheckpoint\u001b[0m \u001b[0;34m=\u001b[0m \u001b[0mpl_load\u001b[0m\u001b[0;34m(\u001b[0m\u001b[0mcheckpoint_path\u001b[0m\u001b[0;34m,\u001b[0m \u001b[0mmap_location\u001b[0m\u001b[0;34m=\u001b[0m\u001b[0mmap_location\u001b[0m\u001b[0;34m)\u001b[0m\u001b[0;34m\u001b[0m\u001b[0;34m\u001b[0m\u001b[0m\n\u001b[1;32m    134\u001b[0m         \u001b[0;32melse\u001b[0m\u001b[0;34m:\u001b[0m\u001b[0;34m\u001b[0m\u001b[0;34m\u001b[0m\u001b[0m\n\u001b[0;32m--> 135\u001b[0;31m             \u001b[0mcheckpoint\u001b[0m \u001b[0;34m=\u001b[0m \u001b[0mpl_load\u001b[0m\u001b[0;34m(\u001b[0m\u001b[0mcheckpoint_path\u001b[0m\u001b[0;34m,\u001b[0m \u001b[0mmap_location\u001b[0m\u001b[0;34m=\u001b[0m\u001b[0;32mlambda\u001b[0m \u001b[0mstorage\u001b[0m\u001b[0;34m,\u001b[0m \u001b[0mloc\u001b[0m\u001b[0;34m:\u001b[0m \u001b[0mstorage\u001b[0m\u001b[0;34m)\u001b[0m\u001b[0;34m\u001b[0m\u001b[0;34m\u001b[0m\u001b[0m\n\u001b[0m\u001b[1;32m    136\u001b[0m \u001b[0;34m\u001b[0m\u001b[0m\n\u001b[1;32m    137\u001b[0m         \u001b[0;32mif\u001b[0m \u001b[0mhparams_file\u001b[0m \u001b[0;32mis\u001b[0m \u001b[0;32mnot\u001b[0m \u001b[0;32mNone\u001b[0m\u001b[0;34m:\u001b[0m\u001b[0;34m\u001b[0m\u001b[0;34m\u001b[0m\u001b[0m\n",
      "\u001b[0;32m~/anaconda3/envs/tubuki/lib/python3.7/site-packages/pytorch_lightning/utilities/cloud_io.py\u001b[0m in \u001b[0;36mload\u001b[0;34m(path_or_url, map_location)\u001b[0m\n\u001b[1;32m     42\u001b[0m         \u001b[0;32mreturn\u001b[0m \u001b[0mtorch\u001b[0m\u001b[0;34m.\u001b[0m\u001b[0mhub\u001b[0m\u001b[0;34m.\u001b[0m\u001b[0mload_state_dict_from_url\u001b[0m\u001b[0;34m(\u001b[0m\u001b[0mstr\u001b[0m\u001b[0;34m(\u001b[0m\u001b[0mpath_or_url\u001b[0m\u001b[0;34m)\u001b[0m\u001b[0;34m,\u001b[0m \u001b[0mmap_location\u001b[0m\u001b[0;34m=\u001b[0m\u001b[0mmap_location\u001b[0m\u001b[0;34m)\u001b[0m\u001b[0;34m\u001b[0m\u001b[0;34m\u001b[0m\u001b[0m\n\u001b[1;32m     43\u001b[0m     \u001b[0mfs\u001b[0m \u001b[0;34m=\u001b[0m \u001b[0mget_filesystem\u001b[0m\u001b[0;34m(\u001b[0m\u001b[0mpath_or_url\u001b[0m\u001b[0;34m)\u001b[0m\u001b[0;34m\u001b[0m\u001b[0;34m\u001b[0m\u001b[0m\n\u001b[0;32m---> 44\u001b[0;31m     \u001b[0;32mwith\u001b[0m \u001b[0mfs\u001b[0m\u001b[0;34m.\u001b[0m\u001b[0mopen\u001b[0m\u001b[0;34m(\u001b[0m\u001b[0mpath_or_url\u001b[0m\u001b[0;34m,\u001b[0m \u001b[0;34m\"rb\"\u001b[0m\u001b[0;34m)\u001b[0m \u001b[0;32mas\u001b[0m \u001b[0mf\u001b[0m\u001b[0;34m:\u001b[0m\u001b[0;34m\u001b[0m\u001b[0;34m\u001b[0m\u001b[0m\n\u001b[0m\u001b[1;32m     45\u001b[0m         \u001b[0;32mreturn\u001b[0m \u001b[0mtorch\u001b[0m\u001b[0;34m.\u001b[0m\u001b[0mload\u001b[0m\u001b[0;34m(\u001b[0m\u001b[0mf\u001b[0m\u001b[0;34m,\u001b[0m \u001b[0mmap_location\u001b[0m\u001b[0;34m=\u001b[0m\u001b[0mmap_location\u001b[0m\u001b[0;34m)\u001b[0m\u001b[0;34m\u001b[0m\u001b[0;34m\u001b[0m\u001b[0m\n\u001b[1;32m     46\u001b[0m \u001b[0;34m\u001b[0m\u001b[0m\n",
      "\u001b[0;32m~/anaconda3/envs/tubuki/lib/python3.7/site-packages/fsspec/spec.py\u001b[0m in \u001b[0;36mopen\u001b[0;34m(self, path, mode, block_size, cache_options, **kwargs)\u001b[0m\n\u001b[1;32m    946\u001b[0m                 \u001b[0mautocommit\u001b[0m\u001b[0;34m=\u001b[0m\u001b[0mac\u001b[0m\u001b[0;34m,\u001b[0m\u001b[0;34m\u001b[0m\u001b[0;34m\u001b[0m\u001b[0m\n\u001b[1;32m    947\u001b[0m                 \u001b[0mcache_options\u001b[0m\u001b[0;34m=\u001b[0m\u001b[0mcache_options\u001b[0m\u001b[0;34m,\u001b[0m\u001b[0;34m\u001b[0m\u001b[0;34m\u001b[0m\u001b[0m\n\u001b[0;32m--> 948\u001b[0;31m                 \u001b[0;34m**\u001b[0m\u001b[0mkwargs\u001b[0m\u001b[0;34m,\u001b[0m\u001b[0;34m\u001b[0m\u001b[0;34m\u001b[0m\u001b[0m\n\u001b[0m\u001b[1;32m    949\u001b[0m             )\n\u001b[1;32m    950\u001b[0m             \u001b[0;32mif\u001b[0m \u001b[0;32mnot\u001b[0m \u001b[0mac\u001b[0m \u001b[0;32mand\u001b[0m \u001b[0;34m\"r\"\u001b[0m \u001b[0;32mnot\u001b[0m \u001b[0;32min\u001b[0m \u001b[0mmode\u001b[0m\u001b[0;34m:\u001b[0m\u001b[0;34m\u001b[0m\u001b[0;34m\u001b[0m\u001b[0m\n",
      "\u001b[0;32m~/anaconda3/envs/tubuki/lib/python3.7/site-packages/fsspec/implementations/local.py\u001b[0m in \u001b[0;36m_open\u001b[0;34m(self, path, mode, block_size, **kwargs)\u001b[0m\n\u001b[1;32m    118\u001b[0m         \u001b[0;32mif\u001b[0m \u001b[0mself\u001b[0m\u001b[0;34m.\u001b[0m\u001b[0mauto_mkdir\u001b[0m \u001b[0;32mand\u001b[0m \u001b[0;34m\"w\"\u001b[0m \u001b[0;32min\u001b[0m \u001b[0mmode\u001b[0m\u001b[0;34m:\u001b[0m\u001b[0;34m\u001b[0m\u001b[0;34m\u001b[0m\u001b[0m\n\u001b[1;32m    119\u001b[0m             \u001b[0mself\u001b[0m\u001b[0;34m.\u001b[0m\u001b[0mmakedirs\u001b[0m\u001b[0;34m(\u001b[0m\u001b[0mself\u001b[0m\u001b[0;34m.\u001b[0m\u001b[0m_parent\u001b[0m\u001b[0;34m(\u001b[0m\u001b[0mpath\u001b[0m\u001b[0;34m)\u001b[0m\u001b[0;34m,\u001b[0m \u001b[0mexist_ok\u001b[0m\u001b[0;34m=\u001b[0m\u001b[0;32mTrue\u001b[0m\u001b[0;34m)\u001b[0m\u001b[0;34m\u001b[0m\u001b[0;34m\u001b[0m\u001b[0m\n\u001b[0;32m--> 120\u001b[0;31m         \u001b[0;32mreturn\u001b[0m \u001b[0mLocalFileOpener\u001b[0m\u001b[0;34m(\u001b[0m\u001b[0mpath\u001b[0m\u001b[0;34m,\u001b[0m \u001b[0mmode\u001b[0m\u001b[0;34m,\u001b[0m \u001b[0mfs\u001b[0m\u001b[0;34m=\u001b[0m\u001b[0mself\u001b[0m\u001b[0;34m,\u001b[0m \u001b[0;34m**\u001b[0m\u001b[0mkwargs\u001b[0m\u001b[0;34m)\u001b[0m\u001b[0;34m\u001b[0m\u001b[0;34m\u001b[0m\u001b[0m\n\u001b[0m\u001b[1;32m    121\u001b[0m \u001b[0;34m\u001b[0m\u001b[0m\n\u001b[1;32m    122\u001b[0m     \u001b[0;32mdef\u001b[0m \u001b[0mtouch\u001b[0m\u001b[0;34m(\u001b[0m\u001b[0mself\u001b[0m\u001b[0;34m,\u001b[0m \u001b[0mpath\u001b[0m\u001b[0;34m,\u001b[0m \u001b[0;34m**\u001b[0m\u001b[0mkwargs\u001b[0m\u001b[0;34m)\u001b[0m\u001b[0;34m:\u001b[0m\u001b[0;34m\u001b[0m\u001b[0;34m\u001b[0m\u001b[0m\n",
      "\u001b[0;32m~/anaconda3/envs/tubuki/lib/python3.7/site-packages/fsspec/implementations/local.py\u001b[0m in \u001b[0;36m__init__\u001b[0;34m(self, path, mode, autocommit, fs, **kwargs)\u001b[0m\n\u001b[1;32m    200\u001b[0m         \u001b[0mself\u001b[0m\u001b[0;34m.\u001b[0m\u001b[0mautocommit\u001b[0m \u001b[0;34m=\u001b[0m \u001b[0mautocommit\u001b[0m\u001b[0;34m\u001b[0m\u001b[0;34m\u001b[0m\u001b[0m\n\u001b[1;32m    201\u001b[0m         \u001b[0mself\u001b[0m\u001b[0;34m.\u001b[0m\u001b[0mblocksize\u001b[0m \u001b[0;34m=\u001b[0m \u001b[0mio\u001b[0m\u001b[0;34m.\u001b[0m\u001b[0mDEFAULT_BUFFER_SIZE\u001b[0m\u001b[0;34m\u001b[0m\u001b[0;34m\u001b[0m\u001b[0m\n\u001b[0;32m--> 202\u001b[0;31m         \u001b[0mself\u001b[0m\u001b[0;34m.\u001b[0m\u001b[0m_open\u001b[0m\u001b[0;34m(\u001b[0m\u001b[0;34m)\u001b[0m\u001b[0;34m\u001b[0m\u001b[0;34m\u001b[0m\u001b[0m\n\u001b[0m\u001b[1;32m    203\u001b[0m \u001b[0;34m\u001b[0m\u001b[0m\n\u001b[1;32m    204\u001b[0m     \u001b[0;32mdef\u001b[0m \u001b[0m_open\u001b[0m\u001b[0;34m(\u001b[0m\u001b[0mself\u001b[0m\u001b[0;34m)\u001b[0m\u001b[0;34m:\u001b[0m\u001b[0;34m\u001b[0m\u001b[0;34m\u001b[0m\u001b[0m\n",
      "\u001b[0;32m~/anaconda3/envs/tubuki/lib/python3.7/site-packages/fsspec/implementations/local.py\u001b[0m in \u001b[0;36m_open\u001b[0;34m(self)\u001b[0m\n\u001b[1;32m    205\u001b[0m         \u001b[0;32mif\u001b[0m \u001b[0mself\u001b[0m\u001b[0;34m.\u001b[0m\u001b[0mf\u001b[0m \u001b[0;32mis\u001b[0m \u001b[0;32mNone\u001b[0m \u001b[0;32mor\u001b[0m \u001b[0mself\u001b[0m\u001b[0;34m.\u001b[0m\u001b[0mf\u001b[0m\u001b[0;34m.\u001b[0m\u001b[0mclosed\u001b[0m\u001b[0;34m:\u001b[0m\u001b[0;34m\u001b[0m\u001b[0;34m\u001b[0m\u001b[0m\n\u001b[1;32m    206\u001b[0m             \u001b[0;32mif\u001b[0m \u001b[0mself\u001b[0m\u001b[0;34m.\u001b[0m\u001b[0mautocommit\u001b[0m \u001b[0;32mor\u001b[0m \u001b[0;34m\"w\"\u001b[0m \u001b[0;32mnot\u001b[0m \u001b[0;32min\u001b[0m \u001b[0mself\u001b[0m\u001b[0;34m.\u001b[0m\u001b[0mmode\u001b[0m\u001b[0;34m:\u001b[0m\u001b[0;34m\u001b[0m\u001b[0;34m\u001b[0m\u001b[0m\n\u001b[0;32m--> 207\u001b[0;31m                 \u001b[0mself\u001b[0m\u001b[0;34m.\u001b[0m\u001b[0mf\u001b[0m \u001b[0;34m=\u001b[0m \u001b[0mopen\u001b[0m\u001b[0;34m(\u001b[0m\u001b[0mself\u001b[0m\u001b[0;34m.\u001b[0m\u001b[0mpath\u001b[0m\u001b[0;34m,\u001b[0m \u001b[0mmode\u001b[0m\u001b[0;34m=\u001b[0m\u001b[0mself\u001b[0m\u001b[0;34m.\u001b[0m\u001b[0mmode\u001b[0m\u001b[0;34m)\u001b[0m\u001b[0;34m\u001b[0m\u001b[0;34m\u001b[0m\u001b[0m\n\u001b[0m\u001b[1;32m    208\u001b[0m             \u001b[0;32melse\u001b[0m\u001b[0;34m:\u001b[0m\u001b[0;34m\u001b[0m\u001b[0;34m\u001b[0m\u001b[0m\n\u001b[1;32m    209\u001b[0m                 \u001b[0;31m# TODO: check if path is writable?\u001b[0m\u001b[0;34m\u001b[0m\u001b[0;34m\u001b[0m\u001b[0;34m\u001b[0m\u001b[0m\n",
      "\u001b[0;31mFileNotFoundError\u001b[0m: [Errno 2] No such file or directory: '/shared/lorenzo/checkpoints/zsgcada-lenet-epoch=05-task=digit-val_loss_tgt=1.4880.ckpt'"
     ]
    }
   ],
   "source": [
    "cf = config.checkpoint_filename[0]\n",
    "pl_model = LitZSGCADA.load_from_checkpoint(f\"/shared/lorenzo/checkpoints/{cf}\", config=config)\n",
    "model = pl_model.model\n",
    "model.eval()\n",
    "None"
   ]
  },
  {
   "cell_type": "code",
   "execution_count": 4,
   "metadata": {},
   "outputs": [],
   "source": [
    "transform = transforms.Compose([\n",
    "    # transforms.Resize(32),\n",
    "    transforms.CenterCrop((28, 28)),\n",
    "    transforms.ToTensor(),\n",
    "    transforms.Normalize(mean=[0.5], std=[0.5]),\n",
    "    ChanDup(),\n",
    "])\n",
    "\n",
    "dataset_mnist_g = datasets.MNIST(root=\"/shared/lorenzo/mnist-zsda/MNIST_G\", train=True, transform=transform)\n",
    "dataset_fashionmnist_c = CENDataset(root=\"/shared/lorenzo/mnist-zsda/FashionMNIST_C\", train=True, transform=transform)\n",
    "\n",
    "inputs_mnist_g, _ = dataset_mnist_g[0]\n",
    "inputs_mnist_g = inputs_mnist_g.unsqueeze(0)\n",
    "\n",
    "inputs_fashionmnist_c, _ = dataset_fashionmnist_c[0]\n",
    "inputs_fashionmnist_c = inputs_fashionmnist_c.unsqueeze(0)"
   ]
  },
  {
   "cell_type": "code",
   "execution_count": 5,
   "metadata": {},
   "outputs": [
    {
     "name": "stderr",
     "output_type": "stream",
     "text": [
      "Clipping input data to the valid range for imshow with RGB data ([0..1] for floats or [0..255] for integers).\n"
     ]
    },
    {
     "data": {
      "image/png": "[encoded data removed]",
      "text/plain": "<Figure size 432x288 with 1 Axes>"
     },
     "metadata": {
      "needs_background": "light"
     },
     "output_type": "display_data"
    },
    {
     "name": "stderr",
     "output_type": "stream",
     "text": [
      "Clipping input data to the valid range for imshow with RGB data ([0..1] for floats or [0..255] for integers).\n"
     ]
    },
    {
     "data": {
      "image/png": "[encoded data removed]",
      "text/plain": "<Figure size 432x288 with 1 Axes>"
     },
     "metadata": {
      "needs_background": "light"
     },
     "output_type": "display_data"
    }
   ],
   "source": [
    "plt.imshow(inputs_mnist_g[0].permute(1,2,0))\n",
    "plt.show()\n",
    "\n",
    "plt.imshow(inputs_fashionmnist_c[0].permute(1,2,0))\n",
    "plt.show()"
   ]
  },
  {
   "cell_type": "code",
   "execution_count": 12,
   "metadata": {},
   "outputs": [
    {
     "name": "stderr",
     "output_type": "stream",
     "text": [
      "Clipping input data to the valid range for imshow with RGB data ([0..1] for floats or [0..255] for integers).\n"
     ]
    },
    {
     "data": {
      "image/png": "[encoded data removed]",
      "text/plain": "<Figure size 432x288 with 1 Axes>"
     },
     "metadata": {
      "needs_background": "light"
     },
     "output_type": "display_data"
    }
   ],
   "source": [
    "dataset_emnist_g = torchvision.datasets.FashionMNIST(root=\"/shared/lorenzo/mnist-zsda/FashionMNIST_G\", train=True, transform=transform)\n",
    "\n",
    "inputs_emnist_g, _ = dataset_emnist_g[0]\n",
    "inputs_emnist_g = inputs_emnist_g.unsqueeze(0)\n",
    "plt.imshow(inputs_emnist_g[0].permute(1,2,0))\n",
    "plt.show()"
   ]
  },
  {
   "cell_type": "code",
   "execution_count": 6,
   "metadata": {},
   "outputs": [],
   "source": [
    "x_toi, x_src = model.get_feature(inputs_mnist_g)\n",
    "x_irt, x_tgt = model.get_feature(inputs_fashionmnist_c)"
   ]
  },
  {
   "cell_type": "code",
   "execution_count": 8,
   "metadata": {},
   "outputs": [
    {
     "name": "stderr",
     "output_type": "stream",
     "text": [
      "Clipping input data to the valid range for imshow with RGB data ([0..1] for floats or [0..255] for integers).\n"
     ]
    },
    {
     "data": {
      "image/png": "[encoded data removed]",
      "text/plain": "<Figure size 432x288 with 1 Axes>"
     },
     "metadata": {
      "needs_background": "light"
     },
     "output_type": "display_data"
    },
    {
     "name": "stderr",
     "output_type": "stream",
     "text": [
      "Clipping input data to the valid range for imshow with RGB data ([0..1] for floats or [0..255] for integers).\n"
     ]
    },
    {
     "data": {
      "image/png": "[encoded data removed]",
      "text/plain": "<Figure size 432x288 with 1 Axes>"
     },
     "metadata": {
      "needs_background": "light"
     },
     "output_type": "display_data"
    }
   ],
   "source": [
    "inputs_fashionmnist_g_syn = model.forward_up(x_irt, x_src)\n",
    "inputs_mnist_c_syn = model.forward_up(x_toi, x_tgt)\n",
    "\n",
    "plt.imshow(inputs_fashionmnist_g_syn.detach()[0].permute(1,2,0))\n",
    "plt.show()\n",
    "\n",
    "plt.imshow(inputs_mnist_c_syn.detach()[0].permute(1,2,0))\n",
    "plt.show()"
   ]
  },
  {
   "cell_type": "code",
   "execution_count": 4,
   "metadata": {},
   "outputs": [
    {
     "name": "stderr",
     "output_type": "stream",
     "text": [
      "100%|██████████| 937/937 [00:16<00:00, 55.51it/s]\n"
     ]
    }
   ],
   "source": [
    "transform = transforms.Compose([\n",
    "    # transforms.Resize(32),\n",
    "    transforms.CenterCrop((28, 28)),\n",
    "    transforms.ToTensor(),\n",
    "    transforms.Normalize(mean=[0.5], std=[0.5]),\n",
    "    ChanDup(),\n",
    "])\n",
    "\n",
    "dataset = CENDataset(root=config.root_tgt_train, train=True, transform=transform)\n",
    "dataloader = DataLoader(dataset, batch_size=config.batch_size,\n",
    "                        shuffle=True, pin_memory=True, \n",
    "                        num_workers=config.num_workers, drop_last=True)\n",
    "\n",
    "model = model.to(config.device)\n",
    "domain_invariant_features_irt_tgt = None\n",
    "class_invariant_features_irt_tgt = None\n",
    "combined_features_irt_tgt = None\n",
    "targets_irt_tgt = None\n",
    "for batch in tqdm(dataloader):\n",
    "    inputs_src, targets_src = batch\n",
    "    inputs_src = inputs_src.to(config.device)\n",
    "    targets_src = targets_src.to(config.device)\n",
    "\n",
    "    x_c, x_b = model.get_feature(inputs_src)\n",
    "    domain_invariant_feature = F.avg_pool2d(x_c, x_b.size()[2:])[:,:,0,0]\n",
    "    class_invariant_feature = F.avg_pool2d(x_b, x_b.size()[2:])[:,:,0,0]\n",
    "    combined_feature = F.avg_pool2d(x_c+x_b, x_b.size()[2:])[:,:,0,0]\n",
    "\n",
    "    if domain_invariant_features_irt_tgt is not None:\n",
    "        domain_invariant_features_irt_tgt = torch.cat([domain_invariant_feature.detach(), domain_invariant_features_irt_tgt], dim=0)\n",
    "        class_invariant_features_irt_tgt = torch.cat([class_invariant_feature.detach(), class_invariant_features_irt_tgt], dim=0)\n",
    "        combined_features_irt_tgt = torch.cat([combined_feature.detach(), combined_features_irt_tgt], dim=0)\n",
    "        targets_irt_tgt = torch.cat([targets_src, targets_irt_tgt], dim=0)\n",
    "    else:\n",
    "        domain_invariant_features_irt_tgt = domain_invariant_feature\n",
    "        class_invariant_features_irt_tgt = class_invariant_feature\n",
    "        combined_features_irt_tgt = combined_feature\n",
    "        targets_irt_tgt = targets_src\n",
    "\n",
    "    del domain_invariant_feature\n",
    "    del class_invariant_feature\n",
    "    del combined_feature\n",
    "    del targets_src"
   ]
  },
  {
   "cell_type": "code",
   "execution_count": 5,
   "metadata": {},
   "outputs": [
    {
     "name": "stderr",
     "output_type": "stream",
     "text": [
      "100%|██████████| 937/937 [00:16<00:00, 58.38it/s]\n"
     ]
    }
   ],
   "source": [
    "transform = transforms.Compose([\n",
    "    # transforms.Resize(32),\n",
    "    transforms.CenterCrop((28, 28)),\n",
    "    transforms.ToTensor(),\n",
    "    transforms.Normalize(mean=[0.5], std=[0.5]),\n",
    "    ChanDup(),\n",
    "])\n",
    "\n",
    "dataset = datasets.MNIST(root=config.root, train=True, download=True, transform=transform)\n",
    "dataloader = DataLoader(dataset, batch_size=config.batch_size,\n",
    "                        shuffle=True, pin_memory=True, \n",
    "                        num_workers=config.num_workers, drop_last=True)\n",
    "\n",
    "model = model.to(config.device)\n",
    "domain_invariant_features_toi_src = None\n",
    "class_invariant_features_toi_src = None\n",
    "combined_features_toi_src = None\n",
    "targets_toi_src = None\n",
    "for batch in tqdm(dataloader):\n",
    "    inputs_src, targets_src = batch\n",
    "    inputs_src = inputs_src.to(config.device)\n",
    "    targets_src = targets_src.to(config.device)\n",
    "\n",
    "    x_c, x_b = model.get_feature(inputs_src)\n",
    "    domain_invariant_feature = F.avg_pool2d(x_c, x_b.size()[2:])[:,:,0,0]\n",
    "    class_invariant_feature = F.avg_pool2d(x_b, x_b.size()[2:])[:,:,0,0]\n",
    "    combined_feature = F.avg_pool2d(x_c+x_b, x_b.size()[2:])[:,:,0,0]\n",
    "\n",
    "    if domain_invariant_features_toi_src is not None:\n",
    "        domain_invariant_features_toi_src = torch.cat([domain_invariant_feature.detach(), domain_invariant_features_toi_src], dim=0)\n",
    "        class_invariant_features_toi_src = torch.cat([class_invariant_feature.detach(), class_invariant_features_toi_src], dim=0)\n",
    "        combined_features_toi_src = torch.cat([combined_feature.detach(), combined_features_toi_src], dim=0)\n",
    "        targets_toi_src = torch.cat([targets_src, targets_toi_src], dim=0)\n",
    "    else:\n",
    "        domain_invariant_features_toi_src = domain_invariant_feature\n",
    "        class_invariant_features_toi_src = class_invariant_feature\n",
    "        combined_features_toi_src = combined_feature\n",
    "        targets_toi_src = targets_src\n",
    "\n",
    "    del domain_invariant_feature\n",
    "    del class_invariant_feature\n",
    "    del combined_feature\n",
    "    del targets_src"
   ]
  },
  {
   "cell_type": "code",
   "execution_count": 6,
   "metadata": {},
   "outputs": [
    {
     "name": "stderr",
     "output_type": "stream",
     "text": [
      "100%|██████████| 937/937 [00:15<00:00, 58.57it/s]\n"
     ]
    }
   ],
   "source": [
    "transform = transforms.Compose([\n",
    "    # transforms.Resize(32),\n",
    "    transforms.CenterCrop((28, 28)),\n",
    "    transforms.ToTensor(),\n",
    "    transforms.Normalize(mean=[0.5], std=[0.5]),\n",
    "    ChanDup(),\n",
    "])\n",
    "\n",
    "dataset = dataset = CENDataset(root=config.root_tgt, train=True, transform=transform)\n",
    "dataloader = DataLoader(dataset, batch_size=config.batch_size,\n",
    "                        shuffle=True, pin_memory=True, \n",
    "                        num_workers=config.num_workers, drop_last=True)\n",
    "\n",
    "model = model.to(config.device)\n",
    "domain_invariant_features_test = None\n",
    "class_invariant_features_test = None\n",
    "combined_features_test = None\n",
    "targets_test = None\n",
    "for batch in tqdm(dataloader):\n",
    "    inputs_src, targets_src = batch\n",
    "    inputs_src = inputs_src.to(config.device)\n",
    "    targets_src = targets_src.to(config.device)\n",
    "\n",
    "    x_c, x_b = model.get_feature(inputs_src)\n",
    "    domain_invariant_feature = F.avg_pool2d(x_c, x_b.size()[2:])[:,:,0,0]\n",
    "    class_invariant_feature = F.avg_pool2d(x_b, x_b.size()[2:])[:,:,0,0]\n",
    "    combined_feature = F.avg_pool2d(x_c+x_b, x_b.size()[2:])[:,:,0,0]\n",
    "\n",
    "    if domain_invariant_features_test is not None:\n",
    "        domain_invariant_features_test = torch.cat([domain_invariant_feature.detach(), domain_invariant_features_test], dim=0)\n",
    "        class_invariant_features_test = torch.cat([class_invariant_feature.detach(), class_invariant_features_test], dim=0)\n",
    "        combined_features_test = torch.cat([combined_feature.detach(), combined_features_test], dim=0)\n",
    "        targets_test = torch.cat([targets_src, targets_test], dim=0)\n",
    "    else:\n",
    "        domain_invariant_features_test = domain_invariant_feature\n",
    "        class_invariant_features_test = class_invariant_feature\n",
    "        combined_features_test = combined_feature\n",
    "        targets_test = targets_src\n",
    "\n",
    "    del domain_invariant_feature\n",
    "    del class_invariant_feature\n",
    "    del combined_feature"
   ]
  },
  {
   "cell_type": "code",
   "execution_count": 7,
   "metadata": {},
   "outputs": [],
   "source": [
    "y_toi_src = targets_toi_src.cpu().detach().numpy()[:1000].astype(str).tolist()\n",
    "y_test = targets_test.cpu().detach().numpy()[:1000].astype(str).tolist()"
   ]
  },
  {
   "cell_type": "code",
   "execution_count": 8,
   "metadata": {},
   "outputs": [
    {
     "data": {
      "text/plain": "<Figure size 1440x1440 with 0 Axes>"
     },
     "metadata": {},
     "output_type": "display_data"
    }
   ],
   "source": [
    "domain_invariant_features_irt_tgt = domain_invariant_features_irt_tgt.cpu().detach().numpy()[:1000]\n",
    "domain_invariant_features_toi_src = domain_invariant_features_toi_src.cpu().detach().numpy()[:1000]\n",
    "domain_invariant_features_test = domain_invariant_features_test.cpu().detach().numpy()[:1000]\n",
    "\n",
    "X = np.concatenate([\n",
    "    domain_invariant_features_irt_tgt, \n",
    "    domain_invariant_features_toi_src, \n",
    "    domain_invariant_features_test,\n",
    "], axis=0)\n",
    "X_embedded = TSNE(n_components=2, learning_rate='auto',\n",
    "                init='random').fit_transform(X)\n",
    "\n",
    "df = pd.DataFrame(X_embedded)\n",
    "df[\"group\"] = [\"tgt_train (FashionMNIST_C)\"] * 1000 + [\"src_train (MNIST_G)\"] * 1000 +[\"tgt_test (MNIST_C)\"] * 1000\n",
    "df[\"target\"] = [\"-\"] * 1000 + y_toi_src + y_test\n",
    "\n",
    "plt.rcParams[\"figure.figsize\"] = (20,20)\n",
    "sns.scatterplot(data=df, x=0, y=1, hue=\"group\", s=400)\n",
    "plt.legend(markerscale=3, fontsize=18)\n",
    "plt.savefig(f\"domain_invariant_{cf}.group.png\")\n",
    "plt.clf()\n",
    "\n",
    "plt.rcParams[\"figure.figsize\"] = (20,20)\n",
    "sns.scatterplot(data=df, x=0, y=1, hue=\"target\", s=400, style=\"group\")\n",
    "plt.legend(markerscale=3, fontsize=18)\n",
    "plt.savefig(f\"domain_invariant_{cf}.class.png\")\n",
    "plt.clf()"
   ]
  },
  {
   "cell_type": "code",
   "execution_count": 9,
   "metadata": {},
   "outputs": [
    {
     "data": {
      "text/plain": "<Figure size 1440x1440 with 0 Axes>"
     },
     "metadata": {},
     "output_type": "display_data"
    }
   ],
   "source": [
    "class_invariant_features_toi_src = class_invariant_features_toi_src.detach().cpu().numpy()[:1000]\n",
    "class_invariant_features_irt_tgt = class_invariant_features_irt_tgt.detach().cpu().numpy()[:1000]\n",
    "class_invariant_features_test = class_invariant_features_test.detach().cpu().numpy()[:1000]\n",
    "\n",
    "X = np.concatenate([\n",
    "    class_invariant_features_toi_src,\n",
    "    class_invariant_features_irt_tgt,\n",
    "    class_invariant_features_test,\n",
    "], axis=0)\n",
    "X_embedded = TSNE(n_components=2, learning_rate='auto',\n",
    "                init='random').fit_transform(X)\n",
    "\n",
    "df = pd.DataFrame(X_embedded)\n",
    "df[\"group\"] = [\"tgt_train (FashionMNIST_C)\"] * 1000 + [\"src_train (MNIST_G)\"] * 1000 +[\"tgt_test (MNIST_C)\"] * 1000\n",
    "df[\"target\"] = [\"-\"] * 1000 + y_toi_src + y_test\n",
    "\n",
    "plt.rcParams[\"figure.figsize\"] = (20,20)\n",
    "sns.scatterplot(data=df, x=0, y=1, hue=\"group\", s=400)\n",
    "plt.legend(markerscale=3, fontsize=18)\n",
    "plt.savefig(f\"class_invariant_{cf}.group.png\")\n",
    "plt.clf()\n",
    "\n",
    "plt.rcParams[\"figure.figsize\"] = (20,20)\n",
    "sns.scatterplot(data=df, x=0, y=1, hue=\"target\", s=400, style=\"group\")\n",
    "plt.legend(markerscale=3, fontsize=18)\n",
    "plt.savefig(f\"class_invariant_{cf}.class.png\")\n",
    "plt.clf()"
   ]
  },
  {
   "cell_type": "code",
   "execution_count": 10,
   "metadata": {},
   "outputs": [
    {
     "ename": "ValueError",
     "evalue": "Could not interpret value `target` for parameter `hue`",
     "output_type": "error",
     "traceback": [
      "\u001b[0;31m---------------------------------------------------------------------------\u001b[0m",
      "\u001b[0;31mValueError\u001b[0m                                Traceback (most recent call last)",
      "\u001b[0;32m/tmp/ipykernel_8728/3272615871.py\u001b[0m in \u001b[0;36m<module>\u001b[0;34m\u001b[0m\n\u001b[1;32m     21\u001b[0m \u001b[0;34m\u001b[0m\u001b[0m\n\u001b[1;32m     22\u001b[0m \u001b[0mplt\u001b[0m\u001b[0;34m.\u001b[0m\u001b[0mrcParams\u001b[0m\u001b[0;34m[\u001b[0m\u001b[0;34m\"figure.figsize\"\u001b[0m\u001b[0;34m]\u001b[0m \u001b[0;34m=\u001b[0m \u001b[0;34m(\u001b[0m\u001b[0;36m20\u001b[0m\u001b[0;34m,\u001b[0m\u001b[0;36m20\u001b[0m\u001b[0;34m)\u001b[0m\u001b[0;34m\u001b[0m\u001b[0;34m\u001b[0m\u001b[0m\n\u001b[0;32m---> 23\u001b[0;31m \u001b[0msns\u001b[0m\u001b[0;34m.\u001b[0m\u001b[0mscatterplot\u001b[0m\u001b[0;34m(\u001b[0m\u001b[0mdata\u001b[0m\u001b[0;34m=\u001b[0m\u001b[0mdf\u001b[0m\u001b[0;34m,\u001b[0m \u001b[0mx\u001b[0m\u001b[0;34m=\u001b[0m\u001b[0;36m0\u001b[0m\u001b[0;34m,\u001b[0m \u001b[0my\u001b[0m\u001b[0;34m=\u001b[0m\u001b[0;36m1\u001b[0m\u001b[0;34m,\u001b[0m \u001b[0mhue\u001b[0m\u001b[0;34m=\u001b[0m\u001b[0;34m\"target\"\u001b[0m\u001b[0;34m,\u001b[0m \u001b[0ms\u001b[0m\u001b[0;34m=\u001b[0m\u001b[0;36m400\u001b[0m\u001b[0;34m,\u001b[0m \u001b[0mstyle\u001b[0m\u001b[0;34m=\u001b[0m\u001b[0;34m\"group\"\u001b[0m\u001b[0;34m)\u001b[0m\u001b[0;34m\u001b[0m\u001b[0;34m\u001b[0m\u001b[0m\n\u001b[0m\u001b[1;32m     24\u001b[0m \u001b[0mplt\u001b[0m\u001b[0;34m.\u001b[0m\u001b[0mlegend\u001b[0m\u001b[0;34m(\u001b[0m\u001b[0mmarkerscale\u001b[0m\u001b[0;34m=\u001b[0m\u001b[0;36m3\u001b[0m\u001b[0;34m,\u001b[0m \u001b[0mfontsize\u001b[0m\u001b[0;34m=\u001b[0m\u001b[0;36m18\u001b[0m\u001b[0;34m)\u001b[0m\u001b[0;34m\u001b[0m\u001b[0;34m\u001b[0m\u001b[0m\n\u001b[1;32m     25\u001b[0m \u001b[0mplt\u001b[0m\u001b[0;34m.\u001b[0m\u001b[0msavefig\u001b[0m\u001b[0;34m(\u001b[0m\u001b[0;34mf\"combined_{cf}.class.png\"\u001b[0m\u001b[0;34m)\u001b[0m\u001b[0;34m\u001b[0m\u001b[0;34m\u001b[0m\u001b[0m\n",
      "\u001b[0;32m~/anaconda3/envs/tubuki/lib/python3.7/site-packages/seaborn/_decorators.py\u001b[0m in \u001b[0;36minner_f\u001b[0;34m(*args, **kwargs)\u001b[0m\n\u001b[1;32m     44\u001b[0m             )\n\u001b[1;32m     45\u001b[0m         \u001b[0mkwargs\u001b[0m\u001b[0;34m.\u001b[0m\u001b[0mupdate\u001b[0m\u001b[0;34m(\u001b[0m\u001b[0;34m{\u001b[0m\u001b[0mk\u001b[0m\u001b[0;34m:\u001b[0m \u001b[0marg\u001b[0m \u001b[0;32mfor\u001b[0m \u001b[0mk\u001b[0m\u001b[0;34m,\u001b[0m \u001b[0marg\u001b[0m \u001b[0;32min\u001b[0m \u001b[0mzip\u001b[0m\u001b[0;34m(\u001b[0m\u001b[0msig\u001b[0m\u001b[0;34m.\u001b[0m\u001b[0mparameters\u001b[0m\u001b[0;34m,\u001b[0m \u001b[0margs\u001b[0m\u001b[0;34m)\u001b[0m\u001b[0;34m}\u001b[0m\u001b[0;34m)\u001b[0m\u001b[0;34m\u001b[0m\u001b[0;34m\u001b[0m\u001b[0m\n\u001b[0;32m---> 46\u001b[0;31m         \u001b[0;32mreturn\u001b[0m \u001b[0mf\u001b[0m\u001b[0;34m(\u001b[0m\u001b[0;34m**\u001b[0m\u001b[0mkwargs\u001b[0m\u001b[0;34m)\u001b[0m\u001b[0;34m\u001b[0m\u001b[0;34m\u001b[0m\u001b[0m\n\u001b[0m\u001b[1;32m     47\u001b[0m     \u001b[0;32mreturn\u001b[0m \u001b[0minner_f\u001b[0m\u001b[0;34m\u001b[0m\u001b[0;34m\u001b[0m\u001b[0m\n\u001b[1;32m     48\u001b[0m \u001b[0;34m\u001b[0m\u001b[0m\n",
      "\u001b[0;32m~/anaconda3/envs/tubuki/lib/python3.7/site-packages/seaborn/relational.py\u001b[0m in \u001b[0;36mscatterplot\u001b[0;34m(x, y, hue, style, size, data, palette, hue_order, hue_norm, sizes, size_order, size_norm, markers, style_order, x_bins, y_bins, units, estimator, ci, n_boot, alpha, x_jitter, y_jitter, legend, ax, **kwargs)\u001b[0m\n\u001b[1;32m    803\u001b[0m         \u001b[0mx_bins\u001b[0m\u001b[0;34m=\u001b[0m\u001b[0mx_bins\u001b[0m\u001b[0;34m,\u001b[0m \u001b[0my_bins\u001b[0m\u001b[0;34m=\u001b[0m\u001b[0my_bins\u001b[0m\u001b[0;34m,\u001b[0m\u001b[0;34m\u001b[0m\u001b[0;34m\u001b[0m\u001b[0m\n\u001b[1;32m    804\u001b[0m         \u001b[0mestimator\u001b[0m\u001b[0;34m=\u001b[0m\u001b[0mestimator\u001b[0m\u001b[0;34m,\u001b[0m \u001b[0mci\u001b[0m\u001b[0;34m=\u001b[0m\u001b[0mci\u001b[0m\u001b[0;34m,\u001b[0m \u001b[0mn_boot\u001b[0m\u001b[0;34m=\u001b[0m\u001b[0mn_boot\u001b[0m\u001b[0;34m,\u001b[0m\u001b[0;34m\u001b[0m\u001b[0;34m\u001b[0m\u001b[0m\n\u001b[0;32m--> 805\u001b[0;31m         \u001b[0malpha\u001b[0m\u001b[0;34m=\u001b[0m\u001b[0malpha\u001b[0m\u001b[0;34m,\u001b[0m \u001b[0mx_jitter\u001b[0m\u001b[0;34m=\u001b[0m\u001b[0mx_jitter\u001b[0m\u001b[0;34m,\u001b[0m \u001b[0my_jitter\u001b[0m\u001b[0;34m=\u001b[0m\u001b[0my_jitter\u001b[0m\u001b[0;34m,\u001b[0m \u001b[0mlegend\u001b[0m\u001b[0;34m=\u001b[0m\u001b[0mlegend\u001b[0m\u001b[0;34m,\u001b[0m\u001b[0;34m\u001b[0m\u001b[0;34m\u001b[0m\u001b[0m\n\u001b[0m\u001b[1;32m    806\u001b[0m     )\n\u001b[1;32m    807\u001b[0m \u001b[0;34m\u001b[0m\u001b[0m\n",
      "\u001b[0;32m~/anaconda3/envs/tubuki/lib/python3.7/site-packages/seaborn/relational.py\u001b[0m in \u001b[0;36m__init__\u001b[0;34m(self, data, variables, x_bins, y_bins, estimator, ci, n_boot, alpha, x_jitter, y_jitter, legend)\u001b[0m\n\u001b[1;32m    585\u001b[0m         )\n\u001b[1;32m    586\u001b[0m \u001b[0;34m\u001b[0m\u001b[0m\n\u001b[0;32m--> 587\u001b[0;31m         \u001b[0msuper\u001b[0m\u001b[0;34m(\u001b[0m\u001b[0;34m)\u001b[0m\u001b[0;34m.\u001b[0m\u001b[0m__init__\u001b[0m\u001b[0;34m(\u001b[0m\u001b[0mdata\u001b[0m\u001b[0;34m=\u001b[0m\u001b[0mdata\u001b[0m\u001b[0;34m,\u001b[0m \u001b[0mvariables\u001b[0m\u001b[0;34m=\u001b[0m\u001b[0mvariables\u001b[0m\u001b[0;34m)\u001b[0m\u001b[0;34m\u001b[0m\u001b[0;34m\u001b[0m\u001b[0m\n\u001b[0m\u001b[1;32m    588\u001b[0m \u001b[0;34m\u001b[0m\u001b[0m\n\u001b[1;32m    589\u001b[0m         \u001b[0mself\u001b[0m\u001b[0;34m.\u001b[0m\u001b[0malpha\u001b[0m \u001b[0;34m=\u001b[0m \u001b[0malpha\u001b[0m\u001b[0;34m\u001b[0m\u001b[0;34m\u001b[0m\u001b[0m\n",
      "\u001b[0;32m~/anaconda3/envs/tubuki/lib/python3.7/site-packages/seaborn/_core.py\u001b[0m in \u001b[0;36m__init__\u001b[0;34m(self, data, variables)\u001b[0m\n\u001b[1;32m    602\u001b[0m     \u001b[0;32mdef\u001b[0m \u001b[0m__init__\u001b[0m\u001b[0;34m(\u001b[0m\u001b[0mself\u001b[0m\u001b[0;34m,\u001b[0m \u001b[0mdata\u001b[0m\u001b[0;34m=\u001b[0m\u001b[0;32mNone\u001b[0m\u001b[0;34m,\u001b[0m \u001b[0mvariables\u001b[0m\u001b[0;34m=\u001b[0m\u001b[0;34m{\u001b[0m\u001b[0;34m}\u001b[0m\u001b[0;34m)\u001b[0m\u001b[0;34m:\u001b[0m\u001b[0;34m\u001b[0m\u001b[0;34m\u001b[0m\u001b[0m\n\u001b[1;32m    603\u001b[0m \u001b[0;34m\u001b[0m\u001b[0m\n\u001b[0;32m--> 604\u001b[0;31m         \u001b[0mself\u001b[0m\u001b[0;34m.\u001b[0m\u001b[0massign_variables\u001b[0m\u001b[0;34m(\u001b[0m\u001b[0mdata\u001b[0m\u001b[0;34m,\u001b[0m \u001b[0mvariables\u001b[0m\u001b[0;34m)\u001b[0m\u001b[0;34m\u001b[0m\u001b[0;34m\u001b[0m\u001b[0m\n\u001b[0m\u001b[1;32m    605\u001b[0m \u001b[0;34m\u001b[0m\u001b[0m\n\u001b[1;32m    606\u001b[0m         \u001b[0;32mfor\u001b[0m \u001b[0mvar\u001b[0m\u001b[0;34m,\u001b[0m \u001b[0mcls\u001b[0m \u001b[0;32min\u001b[0m \u001b[0mself\u001b[0m\u001b[0;34m.\u001b[0m\u001b[0m_semantic_mappings\u001b[0m\u001b[0;34m.\u001b[0m\u001b[0mitems\u001b[0m\u001b[0;34m(\u001b[0m\u001b[0;34m)\u001b[0m\u001b[0;34m:\u001b[0m\u001b[0;34m\u001b[0m\u001b[0;34m\u001b[0m\u001b[0m\n",
      "\u001b[0;32m~/anaconda3/envs/tubuki/lib/python3.7/site-packages/seaborn/_core.py\u001b[0m in \u001b[0;36massign_variables\u001b[0;34m(self, data, variables)\u001b[0m\n\u001b[1;32m    666\u001b[0m             \u001b[0mself\u001b[0m\u001b[0;34m.\u001b[0m\u001b[0minput_format\u001b[0m \u001b[0;34m=\u001b[0m \u001b[0;34m\"long\"\u001b[0m\u001b[0;34m\u001b[0m\u001b[0;34m\u001b[0m\u001b[0m\n\u001b[1;32m    667\u001b[0m             plot_data, variables = self._assign_variables_longform(\n\u001b[0;32m--> 668\u001b[0;31m                 \u001b[0mdata\u001b[0m\u001b[0;34m,\u001b[0m \u001b[0;34m**\u001b[0m\u001b[0mvariables\u001b[0m\u001b[0;34m,\u001b[0m\u001b[0;34m\u001b[0m\u001b[0;34m\u001b[0m\u001b[0m\n\u001b[0m\u001b[1;32m    669\u001b[0m             )\n\u001b[1;32m    670\u001b[0m \u001b[0;34m\u001b[0m\u001b[0m\n",
      "\u001b[0;32m~/anaconda3/envs/tubuki/lib/python3.7/site-packages/seaborn/_core.py\u001b[0m in \u001b[0;36m_assign_variables_longform\u001b[0;34m(self, data, **kwargs)\u001b[0m\n\u001b[1;32m    900\u001b[0m \u001b[0;34m\u001b[0m\u001b[0m\n\u001b[1;32m    901\u001b[0m                 \u001b[0merr\u001b[0m \u001b[0;34m=\u001b[0m \u001b[0;34mf\"Could not interpret value `{val}` for parameter `{key}`\"\u001b[0m\u001b[0;34m\u001b[0m\u001b[0;34m\u001b[0m\u001b[0m\n\u001b[0;32m--> 902\u001b[0;31m                 \u001b[0;32mraise\u001b[0m \u001b[0mValueError\u001b[0m\u001b[0;34m(\u001b[0m\u001b[0merr\u001b[0m\u001b[0;34m)\u001b[0m\u001b[0;34m\u001b[0m\u001b[0;34m\u001b[0m\u001b[0m\n\u001b[0m\u001b[1;32m    903\u001b[0m \u001b[0;34m\u001b[0m\u001b[0m\n\u001b[1;32m    904\u001b[0m             \u001b[0;32melse\u001b[0m\u001b[0;34m:\u001b[0m\u001b[0;34m\u001b[0m\u001b[0;34m\u001b[0m\u001b[0m\n",
      "\u001b[0;31mValueError\u001b[0m: Could not interpret value `target` for parameter `hue`"
     ]
    },
    {
     "data": {
      "text/plain": "<Figure size 1440x1440 with 0 Axes>"
     },
     "metadata": {},
     "output_type": "display_data"
    }
   ],
   "source": [
    "combined_features_irt_tgt = combined_features_irt_tgt.detach().cpu().numpy()[:1000]\n",
    "combined_features_toi_src = combined_features_toi_src.detach().cpu().numpy()[:1000]\n",
    "combined_features_test = combined_features_test.detach().cpu().numpy()[:1000]\n",
    "\n",
    "X = np.concatenate([\n",
    "    combined_features_irt_tgt,\n",
    "    combined_features_toi_src,\n",
    "    combined_features_test,\n",
    "], axis=0)\n",
    "X_embedded = TSNE(n_components=2, learning_rate='auto',\n",
    "                init='random').fit_transform(X)\n",
    "\n",
    "df = pd.DataFrame(X_embedded)\n",
    "df[\"group\"] = [\"tgt_train (FashionMNIST_C)\"] * 1000 + [\"src_train (MNIST_G)\"] * 1000 +[\"tgt_test (MNIST_C)\"] * 1000\n",
    "\n",
    "plt.rcParams[\"figure.figsize\"] = (20,20)\n",
    "sns.scatterplot(data=df, x=0, y=1, hue=\"group\", s=400)\n",
    "plt.legend(markerscale=3, fontsize=18)\n",
    "plt.savefig(f\"combined_{cf}.group.png\")\n",
    "plt.clf()\n",
    "\n",
    "plt.rcParams[\"figure.figsize\"] = (20,20)\n",
    "sns.scatterplot(data=df, x=0, y=1, hue=\"target\", s=400, style=\"group\")\n",
    "plt.legend(markerscale=3, fontsize=18)\n",
    "plt.savefig(f\"combined_{cf}.class.png\")\n",
    "plt.clf()"
   ]
  },
  {
   "cell_type": "code",
   "execution_count": null,
   "metadata": {},
   "outputs": [],
   "source": [
    "# for cf in config.checkpoint_filename:\n",
    "#     pl_model = LitZSGCADA.load_from_checkpoint(f\"./checkpoints/{cf}\", config=config)\n",
    "#     model = pl_model.model\n",
    "#     model.eval()\n",
    "\n",
    "#     transform = transforms.Compose([\n",
    "#         # transforms.Resize(32),\n",
    "#         transforms.CenterCrop((28, 28)),\n",
    "#         transforms.ToTensor(),\n",
    "#         transforms.Normalize(mean=[0.5], std=[0.5]),\n",
    "#         ChanDup(),\n",
    "#     ])\n",
    "\n",
    "#     dataset = CENDataset(root=config.root_tgt_train, train=True, transform=transform)\n",
    "#     dataloader = DataLoader(dataset, batch_size=config.batch_size,\n",
    "#                             shuffle=True, pin_memory=True, \n",
    "#                             num_workers=config.num_workers, drop_last=True)\n",
    "\n",
    "#     model = model.to(config.device)\n",
    "#     translated_inputs_tgt = None\n",
    "#     translated_targets_tgt = None\n",
    "#     for batch in tqdm(dataloader):\n",
    "#         inputs_src, targets_src = batch\n",
    "#         inputs_src = inputs_src.to(config.device)\n",
    "#         targets_src = targets_src.to(config.device)\n",
    "\n",
    "#         x_c, x_b = model.get_feature(inputs_src)\n",
    "#         outputs = F.avg_pool2d(x_c + x_b, x_b.size()[2:])[:,:,0,0]\n",
    "\n",
    "#         if translated_inputs_tgt is not None:\n",
    "#             translated_inputs_tgt = torch.cat([outputs.detach(), translated_inputs_tgt], dim=0)\n",
    "#             translated_targets_tgt = torch.cat([targets_src.detach(), translated_targets_tgt], dim=0)\n",
    "#         else:\n",
    "#             translated_inputs_tgt = outputs\n",
    "#             translated_targets_tgt = targets_src\n",
    "\n",
    "#         del outputs\n",
    "#         del targets_src\n",
    "\n",
    "#     dataset = datasets.MNIST(root=config.root, train=True, download=True, transform=transform)\n",
    "#     dataloader = DataLoader(dataset, batch_size=config.batch_size,\n",
    "#                             shuffle=True, pin_memory=True, \n",
    "#                             num_workers=config.num_workers, drop_last=True)\n",
    "\n",
    "#     model = model.to(config.device)\n",
    "#     translated_inputs_src = None\n",
    "#     translated_targets_src = None\n",
    "#     for batch in tqdm(dataloader):\n",
    "#         inputs_src, targets_src = batch\n",
    "#         inputs_src = inputs_src.to(config.device)\n",
    "#         targets_src = targets_src.to(config.device)\n",
    "\n",
    "#         x_c, x_b = model.get_feature(inputs_src)\n",
    "#         outputs = F.avg_pool2d(x_c + x_b, x_b.size()[2:])[:,:,0,0]\n",
    "\n",
    "#         if translated_inputs_src is not None:\n",
    "#             translated_inputs_src = torch.cat([outputs.detach(), translated_inputs_src], dim=0)\n",
    "#             translated_targets_src = torch.cat([targets_src.detach(), translated_targets_src], dim=0)\n",
    "#         else:\n",
    "#             translated_inputs_src = outputs\n",
    "#             translated_targets_src = targets_src\n",
    "\n",
    "#         del outputs\n",
    "#         del targets_src\n",
    "\n",
    "#     dataset = CENDataset(root=config.root_tgt, train=True, transform=transform)\n",
    "#     dataloader = DataLoader(dataset, batch_size=config.batch_size,\n",
    "#                             shuffle=True, pin_memory=True, \n",
    "#                             num_workers=config.num_workers, drop_last=True)\n",
    "\n",
    "#     model = model.to(config.device)\n",
    "#     translated_inputs_tgt_test = None\n",
    "#     translated_targets_tgt_test = None\n",
    "#     for batch in tqdm(dataloader):\n",
    "#         inputs_src, targets_src = batch\n",
    "#         inputs_src = inputs_src.to(config.device)\n",
    "#         targets_src = targets_src.to(config.device)\n",
    "\n",
    "#         x_c, x_b = model.get_feature(inputs_src)\n",
    "#         outputs = F.avg_pool2d(x_c + x_b, x_b.size()[2:])[:,:,0,0]\n",
    "\n",
    "#         if translated_inputs_tgt_test is not None:\n",
    "#             translated_inputs_tgt_test = torch.cat([outputs.detach(), translated_inputs_tgt_test], dim=0)\n",
    "#             translated_targets_tgt_test = torch.cat([targets_src.detach(), translated_targets_tgt_test], dim=0)\n",
    "#         else:\n",
    "#             translated_inputs_tgt_test = outputs\n",
    "#             translated_targets_tgt_test = targets_src\n",
    "\n",
    "#         del outputs\n",
    "#         del targets_src\n",
    "\n",
    "#     X_tgt = translated_inputs_tgt.cpu().detach().numpy()[:1000]\n",
    "#     X_src = translated_inputs_src.cpu().detach().numpy()[:1000]\n",
    "#     X_tgt_test = translated_inputs_tgt_test.cpu().detach().numpy()[:1000]\n",
    "\n",
    "#     _ = translated_targets_tgt.cpu().detach().numpy()[:1000].astype(str).tolist()\n",
    "#     y_src = translated_targets_src.cpu().detach().numpy()[:1000].astype(str).tolist()\n",
    "#     y_tgt_test = translated_targets_tgt_test.cpu().detach().numpy()[:1000].astype(str).tolist()\n",
    "\n",
    "#     X = np.concatenate([X_tgt, X_src, X_tgt_test], axis=0)\n",
    "#     X_embedded = TSNE(n_components=2, learning_rate='auto',\n",
    "#                     init='random').fit_transform(X)\n",
    "\n",
    "#     df = pd.DataFrame(X_embedded)\n",
    "#     df[\"group\"] = [\"tgt_train (FashionMNIST_C)\"] * 1000 + [\"src_train (MNIST_G)\"] * 1000 +[\"tgt_test (MNIST_C)\"] * 1000\n",
    "#     df[\"target\"] = [\"-\"] * 1000 + y_src + y_tgt_test\n",
    "\n",
    "#     plt.rcParams[\"figure.figsize\"] = (20,20)\n",
    "#     sns.scatterplot(data=df, x=0, y=1, hue=\"group\", s=400)\n",
    "#     plt.legend(markerscale=3, fontsize=18)\n",
    "#     plt.savefig(f\"{cf}.group.png\")\n",
    "#     plt.clf()\n",
    "    \n",
    "\n",
    "#     plt.rcParams[\"figure.figsize\"] = (20,20)\n",
    "#     sns.scatterplot(data=df, x=0, y=1, hue=\"target\", s=400, style=\"group\")\n",
    "#     plt.legend(markerscale=3, fontsize=18)\n",
    "#     plt.savefig(f\"{cf}.class.png\")\n",
    "#     plt.clf()"
   ]
  },
  {
   "cell_type": "code",
   "execution_count": null,
   "metadata": {},
   "outputs": [],
   "source": []
  }
 ],
 "metadata": {
  "kernelspec": {
   "display_name": "Python 3.7.10 64-bit",
   "name": "python3710jvsc74a57bd062abdba18a5af63216677fd9809182d4d30d0131cee927ee8b1e01ef771e0b25"
  },
  "language_info": {
   "codemirror_mode": {
    "name": "ipython",
    "version": 3
   },
   "file_extension": ".py",
   "mimetype": "text/x-python",
   "name": "python",
   "nbconvert_exporter": "python",
   "pygments_lexer": "ipython3",
   "version": "3.7.10"
  },
  "metadata": {
   "interpreter": {
    "hash": "62abdba18a5af63216677fd9809182d4d30d0131cee927ee8b1e01ef771e0b25"
   }
  },
  "orig_nbformat": 2
 },
 "nbformat": 4,
 "nbformat_minor": 2
}