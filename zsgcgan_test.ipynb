{
 "cells": [
  {
   "cell_type": "code",
   "execution_count": 1,
   "metadata": {},
   "outputs": [
    {
     "name": "stderr",
     "output_type": "stream",
     "text": [
      "Global seed set to 10\n"
     ]
    }
   ],
   "source": [
    "import pytorch_lightning as pl\n",
    "pl.seed_everything(10)\n",
    "\n",
    "from sklearn.manifold import TSNE\n",
    "from torch.utils.data import DataLoader\n",
    "from tqdm import tqdm\n",
    "\n",
    "import torch\n",
    "import torchvision\n",
    "import torchmetrics\n",
    "\n",
    "import torchvision.datasets as datasets\n",
    "import torchvision.transforms as transforms\n",
    "import matplotlib.pyplot as plt\n",
    "import numpy as np\n",
    "import pandas as pd\n",
    "import seaborn as sns\n",
    "import torch.nn.functional as F\n",
    "\n",
    "from dataset.digit import ChanDup, CENDataset\n",
    "from pl_module.zsgcada import LitZSGCADA"
   ]
  },
  {
   "cell_type": "code",
   "execution_count": 2,
   "metadata": {},
   "outputs": [],
   "source": [
    "class ZSGCADAConfig:\n",
    "    checkpoint_filename = [\n",
    "        # FasionMNIST\n",
    "        # \"zsgcada-lenet-epoch=02-task=digit-val_loss_tgt=2.1088.ckpt\",\n",
    "        # \"zsgcada-lenet-epoch=08-task=digit-val_loss_tgt=2.0557.ckpt\",\n",
    "        # \"zsgcada-lenet-epoch=04-task=digit-val_loss_tgt=1.8896.ckpt\",\n",
    "        # \"zsgcada-lenet-epoch=06-task=digit-val_loss_tgt=1.8589.ckpt\",\n",
    "\n",
    "        \"zsgcada-lenet-epoch=00-task=digit-val_loss_tgt=2.6313.ckpt\",\n",
    "        \"zsgcada-lenet-epoch=00-task=digit-val_loss_tgt=2.2142.ckpt\",\n",
    "        \"zsgcada-lenet-epoch=00-task=digit-val_loss_tgt=2.0466.ckpt\",\n",
    "        \"zsgcada-lenet-epoch=00-task=digit-val_loss_tgt=1.7286.ckpt\",\n",
    "    ]\n",
    "    lambda_noise: None\n",
    "    device=\"cuda:1\"\n",
    "    \n",
    "    root=\"/shared/lorenzo/mnist-zsda/MNIST_G\"\n",
    "    root_tgt=\"/shared/lorenzo/mnist-zsda/MNIST_C\"\n",
    "    \n",
    "    model_name=\"zsgcada\"\n",
    "    backbone_name=\"lenet\"\n",
    "    \n",
    "    root_tgt_train=\"/shared/lorenzo/mnist-zsda/FashionMNIST_C\"\n",
    "    num_blocks=9\n",
    "    hidden_dim_dsc=32\n",
    "    lambda_idt=1.0\n",
    "    lambda_sem=0.0\n",
    "    transformation=\"rotate\"\n",
    "    beta1=0.5\n",
    "    pretrained=\"/root/dezsda/checkpoints/timm-lenet-epoch=03-task=digit-val_loss=0.0297.ckpt\"\n",
    "    fix_block_up=False\n",
    "    lambda_sem_idt=10.0\n",
    "    sem_idt_per_epoch=1\n",
    "    \n",
    "    lr_enc_multi: 1.0\n",
    "    lr_dsc_multi: 1.0\n",
    "    lambda_rec: 1.0\n",
    "    lambda_cross: 1.0\n",
    "\n",
    "    lr = 1e-3\n",
    "    optimizer = \"adam\"\n",
    "    batch_size = 64\n",
    "    max_epochs = 50\n",
    "    grad_accum = 1\n",
    "    es_patience = None\n",
    "    task=\"digit\"\n",
    "    img_size = 28\n",
    "    fold_no = 0\n",
    "    num_workers = 8\n",
    "    channels = 3\n",
    "    logger = True\n",
    "    seed = 42\n",
    "    project = \"csi-har\"\n",
    "    checkpoint_dir = \"/root/dezsda/checkpoints\"\n",
    "    gpus = 1\n",
    "    num_classes=10\n",
    "    num_test_sets=4\n",
    "\n",
    "    assert root.split(\"/\")[-1].split(\"_\")[0] == root_tgt.split(\"/\")[-1].split(\"_\")[0]\n",
    "    translated_dir=f\"/shared/lorenzo/mnist-zsda/{root.split('/')[-1].split('_')[0]}_{root.split('/')[-1].split('_')[-1]}{root_tgt.split('/')[-1].split('_')[-1]}\"\n",
    "    \n",
    "config = ZSGCADAConfig()"
   ]
  },
  {
   "cell_type": "code",
   "execution_count": 3,
   "metadata": {},
   "outputs": [],
   "source": [
    "# cf = config.checkpoint_filename[0]\n"
   ]
  },
  {
   "cell_type": "code",
   "execution_count": 4,
   "metadata": {},
   "outputs": [],
   "source": [
    "transform = transforms.Compose([\n",
    "    # transforms.Resize(32),\n",
    "    transforms.CenterCrop((28, 28)),\n",
    "    transforms.ToTensor(),\n",
    "    transforms.Normalize(mean=[0.5], std=[0.5]),\n",
    "    ChanDup(),\n",
    "])\n",
    "\n",
    "dataset_mnist_c = CENDataset(root=\"/shared/lorenzo/mnist-zsda/MNIST_E\", train=False, transform=transform)\n",
    "dataloader = DataLoader(dataset_mnist_c, batch_size=config.batch_size,\n",
    "                        shuffle=True, pin_memory=True, \n",
    "                        num_workers=config.num_workers, drop_last=True)"
   ]
  },
  {
   "cell_type": "code",
   "execution_count": 5,
   "metadata": {},
   "outputs": [
    {
     "name": "stderr",
     "output_type": "stream",
     "text": [
      "100%|██████████| 156/156 [00:03<00:00, 50.40it/s]\n"
     ]
    },
    {
     "name": "stdout",
     "output_type": "stream",
     "text": [
      "tensor(0.5440, device='cuda:1') tensor(0.5342, device='cuda:1')\n"
     ]
    },
    {
     "name": "stderr",
     "output_type": "stream",
     "text": [
      "100%|██████████| 156/156 [00:02<00:00, 55.82it/s]\n"
     ]
    },
    {
     "name": "stdout",
     "output_type": "stream",
     "text": [
      "tensor(0.4989, device='cuda:1') tensor(0.5032, device='cuda:1')\n"
     ]
    },
    {
     "name": "stderr",
     "output_type": "stream",
     "text": [
      "100%|██████████| 156/156 [00:02<00:00, 55.94it/s]\n"
     ]
    },
    {
     "name": "stdout",
     "output_type": "stream",
     "text": [
      "tensor(0.5216, device='cuda:1') tensor(0.5277, device='cuda:1')\n"
     ]
    },
    {
     "name": "stderr",
     "output_type": "stream",
     "text": [
      "100%|██████████| 156/156 [00:02<00:00, 55.55it/s]"
     ]
    },
    {
     "name": "stdout",
     "output_type": "stream",
     "text": [
      "tensor(0.5162, device='cuda:1') tensor(0.5279, device='cuda:1')\n"
     ]
    },
    {
     "name": "stderr",
     "output_type": "stream",
     "text": [
      "\n"
     ]
    },
    {
     "data": {
      "text/plain": "(tensor(0.5202, device='cuda:1'), tensor(0.5233, device='cuda:1'))"
     },
     "execution_count": 5,
     "metadata": {},
     "output_type": "execute_result"
    }
   ],
   "source": [
    "lambda_pp = 0.9\n",
    "sos = []\n",
    "posts = []\n",
    "for cf in config.checkpoint_filename:\n",
    "    pl_model = LitZSGCADA.load_from_checkpoint(f\"/shared/lorenzo/checkpoints/{cf}\", config=config)\n",
    "    model = pl_model.model\n",
    "    model.eval()\n",
    "    model.to(config.device)\n",
    "    \n",
    "\n",
    "    test_acc_so = torchmetrics.Accuracy()\n",
    "    test_acc_so = test_acc_so.to(config.device)\n",
    "\n",
    "    test_acc_translated_only = torchmetrics.Accuracy()\n",
    "    test_acc_translated_only = test_acc_translated_only.to(config.device)\n",
    "\n",
    "    test_acc_post = torchmetrics.Accuracy()\n",
    "    test_acc_post = test_acc_post.to(config.device)\n",
    "\n",
    "    for batch in tqdm(dataloader):\n",
    "        inputs_mnist_c, targets = batch\n",
    "\n",
    "        inputs_mnist_c = inputs_mnist_c.to(config.device)\n",
    "        targets = targets.to(config.device)\n",
    "        translated = model.translate(inputs_mnist_c).detach()\n",
    "\n",
    "        # plt.imshow(inputs_mnist_c.squeeze(0).permute(1,2,0))\n",
    "        # plt.show()\n",
    "\n",
    "        # plt.imshow(translated.squeeze(0).permute(1,2,0))\n",
    "        # plt.show()\n",
    "\n",
    "        outputs_mnist_c = model.pretrained(inputs_mnist_c)\n",
    "        outputs_translated = model.pretrained(translated)\n",
    "\n",
    "        combined_outputs = []\n",
    "        for output_mnist_c, output_translated in zip(outputs_mnist_c, outputs_translated):\n",
    "            logit_diff = F.l1_loss(\n",
    "                output_mnist_c,\n",
    "                output_translated,\n",
    "            )\n",
    "\n",
    "            # if logit_diff < 2.0:\n",
    "            #     combined_outputs.append(output_mnist_c)\n",
    "            # else:\n",
    "            #     combined_outputs.append(output_translated + output_mnist_c)\n",
    "            combined_outputs.append((1-lambda_pp) * torch.sigmoid(output_translated) + lambda_pp * torch.sigmoid(output_mnist_c))\n",
    "            # combined_outputs.append(torch.sigmoid(output_mnist_c))\n",
    "        combined_outputs = torch.stack(combined_outputs, dim=0)\n",
    "        test_acc_so(outputs_mnist_c.argmax(dim=-1), targets)\n",
    "        test_acc_translated_only(outputs_translated.argmax(dim=-1), targets)\n",
    "        test_acc_post(combined_outputs.argmax(dim=-1), targets)\n",
    "    so = test_acc_so.compute()\n",
    "    post = test_acc_post.compute()\n",
    "    print(so, post)\n",
    "    sos.append(so)\n",
    "    posts.append(post)\n",
    "sum(sos) / len(sos), sum(posts) / len(posts)"
   ]
  },
  {
   "cell_type": "code",
   "execution_count": 6,
   "metadata": {},
   "outputs": [],
   "source": [
    "# inputs_mnist_c, _ = dataset_mnist_c[0]"
   ]
  },
  {
   "cell_type": "code",
   "execution_count": null,
   "metadata": {},
   "outputs": [],
   "source": []
  }
 ],
 "metadata": {
  "kernelspec": {
   "display_name": "Python 3.7.10 64-bit",
   "name": "python3710jvsc74a57bd062abdba18a5af63216677fd9809182d4d30d0131cee927ee8b1e01ef771e0b25"
  },
  "language_info": {
   "name": "python",
   "version": ""
  },
  "metadata": {
   "interpreter": {
    "hash": "62abdba18a5af63216677fd9809182d4d30d0131cee927ee8b1e01ef771e0b25"
   }
  },
  "orig_nbformat": 2
 },
 "nbformat": 4,
 "nbformat_minor": 2
}