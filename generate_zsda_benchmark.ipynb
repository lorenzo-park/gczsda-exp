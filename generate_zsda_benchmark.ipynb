{
 "cells": [
  {
   "cell_type": "code",
   "execution_count": 1,
   "metadata": {},
   "outputs": [],
   "source": [
    "from glob import glob\n",
    "\n",
    "toi = [\"sitdown\",\"circle\",\"push\",\"zigzag\",\"swipe\"]\n",
    "irt = [\"clap\",\"noActivity\",\"standup\",\"upNdown\"]"
   ]
  },
  {
   "cell_type": "code",
   "execution_count": 2,
   "metadata": {},
   "outputs": [],
   "source": [
    "# srcs = [\"exp1-cwt\"]\n",
    "# tgts = [\"exp2-cwt\"]\n",
    "\n",
    "# srcs = [\"exp1-cwt\"]\n",
    "srcs = [\"exp4-cwt\"]\n",
    "\n",
    "# srcs = [\"exp1-cwt\"]\n",
    "tgts = [\"exp6-cwt\"]"
   ]
  },
  {
   "cell_type": "code",
   "execution_count": 3,
   "metadata": {},
   "outputs": [],
   "source": [
    "src_folder_toi = \"\".join(srcs) + \"_toi\"\n",
    "src_folder_irt = \"\".join(srcs) + \"_irt\"\n",
    "\n",
    "tgt_folder_toi = \"\".join(tgts) + \"_toi\"\n",
    "tgt_folder_irt = \"\".join(tgts) + \"_irt\""
   ]
  },
  {
   "cell_type": "code",
   "execution_count": 4,
   "metadata": {},
   "outputs": [],
   "source": [
    "import re\n"
   ]
  },
  {
   "cell_type": "code",
   "execution_count": 5,
   "metadata": {},
   "outputs": [],
   "source": [
    "def get_class(path):\n",
    "    raw_class = path.split(\"/\")[-1].replace(\".npy\", \"\").replace(\".pcap\", \"\").split(\"_\")[-1][:-2]\n",
    "    r = re.compile(\"[a-zA-Z]+\")\n",
    "    return r.findall(raw_class)[0]"
   ]
  },
  {
   "cell_type": "code",
   "execution_count": 6,
   "metadata": {},
   "outputs": [],
   "source": [
    "src_toi_files = []\n",
    "src_irt_files = []\n",
    "for src in srcs:\n",
    "    for file in glob(f\"/shared/lorenzo/data-tubuki-cache/{src}/*/*.npy\"):\n",
    "        class_name = get_class(file)\n",
    "        if class_name in irt:\n",
    "            splits = file.split(\"/\")\n",
    "            splits[-3] = src_folder_irt\n",
    "            src_irt_files.append((file, \"/\".join(splits)))\n",
    "        else:\n",
    "            splits = file.split(\"/\")\n",
    "            splits[-3] = src_folder_toi\n",
    "            src_toi_files.append((file, \"/\".join(splits)))"
   ]
  },
  {
   "cell_type": "code",
   "execution_count": 7,
   "metadata": {},
   "outputs": [
    {
     "data": {
      "text/plain": "(1750,\n [('/shared/lorenzo/data-tubuki-cache/exp4-cwt/10_LSO/dir3_10_LSO_push03.npy',\n   '/shared/lorenzo/data-tubuki-cache/exp4-cwt_toi/10_LSO/dir3_10_LSO_push03.npy'),\n  ('/shared/lorenzo/data-tubuki-cache/exp4-cwt/10_LSO/dir2_10_LSO_zigzag05.npy',\n   '/shared/lorenzo/data-tubuki-cache/exp4-cwt_toi/10_LSO/dir2_10_LSO_zigzag05.npy'),\n  ('/shared/lorenzo/data-tubuki-cache/exp4-cwt/10_LSO/dir1_10_LSO_zigzag03.npy',\n   '/shared/lorenzo/data-tubuki-cache/exp4-cwt_toi/10_LSO/dir1_10_LSO_zigzag03.npy'),\n  ('/shared/lorenzo/data-tubuki-cache/exp4-cwt/10_LSO/dir1_10_LSO_zigzag04.npy',\n   '/shared/lorenzo/data-tubuki-cache/exp4-cwt_toi/10_LSO/dir1_10_LSO_zigzag04.npy'),\n  ('/shared/lorenzo/data-tubuki-cache/exp4-cwt/10_LSO/dir3_10_LSO_push04.npy',\n   '/shared/lorenzo/data-tubuki-cache/exp4-cwt_toi/10_LSO/dir3_10_LSO_push04.npy'),\n  ('/shared/lorenzo/data-tubuki-cache/exp4-cwt/10_LSO/dir2_10_LSO_zigzag02.npy',\n   '/shared/lorenzo/data-tubuki-cache/exp4-cwt_toi/10_LSO/dir2_10_LSO_zigzag02.npy'),\n  ('/shared/lorenzo/data-tubuki-cache/exp4-cwt/10_LSO/dir5_10_LSO_swipe03.npy',\n   '/shared/lorenzo/data-tubuki-cache/exp4-cwt_toi/10_LSO/dir5_10_LSO_swipe03.npy'),\n  ('/shared/lorenzo/data-tubuki-cache/exp4-cwt/10_LSO/dir5_10_LSO_zigzag05.npy',\n   '/shared/lorenzo/data-tubuki-cache/exp4-cwt_toi/10_LSO/dir5_10_LSO_zigzag05.npy'),\n  ('/shared/lorenzo/data-tubuki-cache/exp4-cwt/10_LSO/dir5_10_LSO_zigzag02.npy',\n   '/shared/lorenzo/data-tubuki-cache/exp4-cwt_toi/10_LSO/dir5_10_LSO_zigzag02.npy'),\n  ('/shared/lorenzo/data-tubuki-cache/exp4-cwt/10_LSO/dir5_10_LSO_swipe04.npy',\n   '/shared/lorenzo/data-tubuki-cache/exp4-cwt_toi/10_LSO/dir5_10_LSO_swipe04.npy')])"
     },
     "execution_count": 7,
     "metadata": {},
     "output_type": "execute_result"
    }
   ],
   "source": [
    "len(src_toi_files), src_toi_files[:10]"
   ]
  },
  {
   "cell_type": "code",
   "execution_count": 8,
   "metadata": {},
   "outputs": [
    {
     "data": {
      "text/plain": "(1400,\n [('/shared/lorenzo/data-tubuki-cache/exp4-cwt/10_LSO/dir3_10_LSO_clap02.npy',\n   '/shared/lorenzo/data-tubuki-cache/exp4-cwt_irt/10_LSO/dir3_10_LSO_clap02.npy'),\n  ('/shared/lorenzo/data-tubuki-cache/exp4-cwt/10_LSO/dir3_10_LSO_upNdown03.npy',\n   '/shared/lorenzo/data-tubuki-cache/exp4-cwt_irt/10_LSO/dir3_10_LSO_upNdown03.npy'),\n  ('/shared/lorenzo/data-tubuki-cache/exp4-cwt/10_LSO/dir3_10_LSO_clap05.npy',\n   '/shared/lorenzo/data-tubuki-cache/exp4-cwt_irt/10_LSO/dir3_10_LSO_clap05.npy'),\n  ('/shared/lorenzo/data-tubuki-cache/exp4-cwt/10_LSO/dir3_10_LSO_upNdown04.npy',\n   '/shared/lorenzo/data-tubuki-cache/exp4-cwt_irt/10_LSO/dir3_10_LSO_upNdown04.npy'),\n  ('/shared/lorenzo/data-tubuki-cache/exp4-cwt/10_LSO/dir2_10_LSO_upNdown02.npy',\n   '/shared/lorenzo/data-tubuki-cache/exp4-cwt_irt/10_LSO/dir2_10_LSO_upNdown02.npy'),\n  ('/shared/lorenzo/data-tubuki-cache/exp4-cwt/10_LSO/dir2_10_LSO_clap03.npy',\n   '/shared/lorenzo/data-tubuki-cache/exp4-cwt_irt/10_LSO/dir2_10_LSO_clap03.npy'),\n  ('/shared/lorenzo/data-tubuki-cache/exp4-cwt/10_LSO/dir2_10_LSO_clap04.npy',\n   '/shared/lorenzo/data-tubuki-cache/exp4-cwt_irt/10_LSO/dir2_10_LSO_clap04.npy'),\n  ('/shared/lorenzo/data-tubuki-cache/exp4-cwt/10_LSO/dir2_10_LSO_upNdown05.npy',\n   '/shared/lorenzo/data-tubuki-cache/exp4-cwt_irt/10_LSO/dir2_10_LSO_upNdown05.npy'),\n  ('/shared/lorenzo/data-tubuki-cache/exp4-cwt/10_LSO/dir2_10_LSO_standup01.npy',\n   '/shared/lorenzo/data-tubuki-cache/exp4-cwt_irt/10_LSO/dir2_10_LSO_standup01.npy'),\n  ('/shared/lorenzo/data-tubuki-cache/exp4-cwt/10_LSO/dir1_10_LSO_upNdown01.npy',\n   '/shared/lorenzo/data-tubuki-cache/exp4-cwt_irt/10_LSO/dir1_10_LSO_upNdown01.npy')])"
     },
     "execution_count": 8,
     "metadata": {},
     "output_type": "execute_result"
    }
   ],
   "source": [
    "len(src_irt_files), src_irt_files[:10]"
   ]
  },
  {
   "cell_type": "code",
   "execution_count": 9,
   "metadata": {},
   "outputs": [],
   "source": [
    "tgt_irt_files = []\n",
    "tgt_toi_files = []\n",
    "for tgt in tgts:\n",
    "    for file in glob(f\"/shared/lorenzo/data-tubuki-cache/{tgt}/*/*.npy\"):\n",
    "        class_name = get_class(file)\n",
    "        if class_name in irt:\n",
    "            splits = file.split(\"/\")\n",
    "            splits[-3] = tgt_folder_irt\n",
    "            tgt_irt_files.append((file, \"/\".join(splits)))\n",
    "        else:\n",
    "            splits = file.split(\"/\")\n",
    "            splits[-3] = tgt_folder_toi\n",
    "            tgt_toi_files.append((file, \"/\".join(splits)))"
   ]
  },
  {
   "cell_type": "code",
   "execution_count": 10,
   "metadata": {},
   "outputs": [
    {
     "data": {
      "text/plain": "(1750,\n [('/shared/lorenzo/data-tubuki-cache/exp6-cwt/03_LJE/dir1_03_LJE_circle05.npy',\n   '/shared/lorenzo/data-tubuki-cache/exp6-cwt_toi/03_LJE/dir1_03_LJE_circle05.npy'),\n  ('/shared/lorenzo/data-tubuki-cache/exp6-cwt/03_LJE/dir3_03_LJE_circle01.npy',\n   '/shared/lorenzo/data-tubuki-cache/exp6-cwt_toi/03_LJE/dir3_03_LJE_circle01.npy'),\n  ('/shared/lorenzo/data-tubuki-cache/exp6-cwt/03_LJE/dir2_03_LJE_circle03.npy',\n   '/shared/lorenzo/data-tubuki-cache/exp6-cwt_toi/03_LJE/dir2_03_LJE_circle03.npy'),\n  ('/shared/lorenzo/data-tubuki-cache/exp6-cwt/03_LJE/dir2_03_LJE_circle04.npy',\n   '/shared/lorenzo/data-tubuki-cache/exp6-cwt_toi/03_LJE/dir2_03_LJE_circle04.npy'),\n  ('/shared/lorenzo/data-tubuki-cache/exp6-cwt/03_LJE/dir1_03_LJE_circle02.npy',\n   '/shared/lorenzo/data-tubuki-cache/exp6-cwt_toi/03_LJE/dir1_03_LJE_circle02.npy'),\n  ('/shared/lorenzo/data-tubuki-cache/exp6-cwt/03_LJE/dir4_03_LJE_circle01.npy',\n   '/shared/lorenzo/data-tubuki-cache/exp6-cwt_toi/03_LJE/dir4_03_LJE_circle01.npy'),\n  ('/shared/lorenzo/data-tubuki-cache/exp6-cwt/03_LJE/dir5_03_LJE_circle03.npy',\n   '/shared/lorenzo/data-tubuki-cache/exp6-cwt_toi/03_LJE/dir5_03_LJE_circle03.npy'),\n  ('/shared/lorenzo/data-tubuki-cache/exp6-cwt/03_LJE/dir5_03_LJE_push05.npy',\n   '/shared/lorenzo/data-tubuki-cache/exp6-cwt_toi/03_LJE/dir5_03_LJE_push05.npy'),\n  ('/shared/lorenzo/data-tubuki-cache/exp6-cwt/03_LJE/dir5_03_LJE_push02.npy',\n   '/shared/lorenzo/data-tubuki-cache/exp6-cwt_toi/03_LJE/dir5_03_LJE_push02.npy'),\n  ('/shared/lorenzo/data-tubuki-cache/exp6-cwt/03_LJE/dir1_03_LJE_swipe01.npy',\n   '/shared/lorenzo/data-tubuki-cache/exp6-cwt_toi/03_LJE/dir1_03_LJE_swipe01.npy')])"
     },
     "execution_count": 10,
     "metadata": {},
     "output_type": "execute_result"
    }
   ],
   "source": [
    "len(tgt_toi_files), tgt_toi_files[:10]"
   ]
  },
  {
   "cell_type": "code",
   "execution_count": 11,
   "metadata": {},
   "outputs": [
    {
     "data": {
      "text/plain": "(1400,\n [('/shared/lorenzo/data-tubuki-cache/exp6-cwt/03_LJE/dir5_03_LJE_clap04.npy',\n   '/shared/lorenzo/data-tubuki-cache/exp6-cwt_irt/03_LJE/dir5_03_LJE_clap04.npy'),\n  ('/shared/lorenzo/data-tubuki-cache/exp6-cwt/03_LJE/dir4_03_LJE_upNdown03.npy',\n   '/shared/lorenzo/data-tubuki-cache/exp6-cwt_irt/03_LJE/dir4_03_LJE_upNdown03.npy'),\n  ('/shared/lorenzo/data-tubuki-cache/exp6-cwt/03_LJE/dir1_03_LJE_standup03.npy',\n   '/shared/lorenzo/data-tubuki-cache/exp6-cwt_irt/03_LJE/dir1_03_LJE_standup03.npy'),\n  ('/shared/lorenzo/data-tubuki-cache/exp6-cwt/03_LJE/dir4_03_LJE_upNdown04.npy',\n   '/shared/lorenzo/data-tubuki-cache/exp6-cwt_irt/03_LJE/dir4_03_LJE_upNdown04.npy'),\n  ('/shared/lorenzo/data-tubuki-cache/exp6-cwt/03_LJE/dir1_03_LJE_standup04.npy',\n   '/shared/lorenzo/data-tubuki-cache/exp6-cwt_irt/03_LJE/dir1_03_LJE_standup04.npy'),\n  ('/shared/lorenzo/data-tubuki-cache/exp6-cwt/03_LJE/dir5_03_LJE_clap03.npy',\n   '/shared/lorenzo/data-tubuki-cache/exp6-cwt_irt/03_LJE/dir5_03_LJE_clap03.npy'),\n  ('/shared/lorenzo/data-tubuki-cache/exp6-cwt/03_LJE/dir1_03_LJE_clap01.npy',\n   '/shared/lorenzo/data-tubuki-cache/exp6-cwt_irt/03_LJE/dir1_03_LJE_clap01.npy'),\n  ('/shared/lorenzo/data-tubuki-cache/exp6-cwt/03_LJE/dir5_03_LJE_standup01.npy',\n   '/shared/lorenzo/data-tubuki-cache/exp6-cwt_irt/03_LJE/dir5_03_LJE_standup01.npy'),\n  ('/shared/lorenzo/data-tubuki-cache/exp6-cwt/03_LJE/dir4_03_LJE_clap05.npy',\n   '/shared/lorenzo/data-tubuki-cache/exp6-cwt_irt/03_LJE/dir4_03_LJE_clap05.npy'),\n  ('/shared/lorenzo/data-tubuki-cache/exp6-cwt/03_LJE/dir5_03_LJE_upNdown02.npy',\n   '/shared/lorenzo/data-tubuki-cache/exp6-cwt_irt/03_LJE/dir5_03_LJE_upNdown02.npy')])"
     },
     "execution_count": 11,
     "metadata": {},
     "output_type": "execute_result"
    }
   ],
   "source": [
    "len(tgt_irt_files), tgt_irt_files[:10]"
   ]
  },
  {
   "cell_type": "code",
   "execution_count": 12,
   "metadata": {},
   "outputs": [],
   "source": [
    "import shutil\n",
    "import os"
   ]
  },
  {
   "cell_type": "code",
   "execution_count": 13,
   "metadata": {},
   "outputs": [],
   "source": [
    "for org, dst in src_toi_files:\n",
    "    os.makedirs(\"/\".join(dst.split(\"/\")[:-2]), exist_ok=True)\n",
    "    os.makedirs(\"/\".join(dst.split(\"/\")[:-1]), exist_ok=True)\n",
    "    shutil.copy(org, dst)"
   ]
  },
  {
   "cell_type": "code",
   "execution_count": 14,
   "metadata": {},
   "outputs": [],
   "source": [
    "for org, dst in src_irt_files:\n",
    "    os.makedirs(\"/\".join(dst.split(\"/\")[:-2]), exist_ok=True)\n",
    "    os.makedirs(\"/\".join(dst.split(\"/\")[:-1]), exist_ok=True)\n",
    "    shutil.copy(org, dst)"
   ]
  },
  {
   "cell_type": "code",
   "execution_count": 15,
   "metadata": {},
   "outputs": [],
   "source": [
    "for org, dst in tgt_irt_files:\n",
    "    os.makedirs(\"/\".join(dst.split(\"/\")[:-2]), exist_ok=True)\n",
    "    os.makedirs(\"/\".join(dst.split(\"/\")[:-1]), exist_ok=True)\n",
    "    shutil.copy(org, dst)"
   ]
  },
  {
   "cell_type": "code",
   "execution_count": 16,
   "metadata": {},
   "outputs": [],
   "source": [
    "for org, dst in tgt_toi_files:\n",
    "    os.makedirs(\"/\".join(dst.split(\"/\")[:-2]), exist_ok=True)\n",
    "    os.makedirs(\"/\".join(dst.split(\"/\")[:-1]), exist_ok=True)\n",
    "    shutil.copy(org, dst)"
   ]
  },
  {
   "cell_type": "code",
   "execution_count": 17,
   "metadata": {},
   "outputs": [
    {
     "name": "stdout",
     "output_type": "stream",
     "text": [
      "a\n"
     ]
    }
   ],
   "source": [
    "print(\"a\")"
   ]
  },
  {
   "cell_type": "code",
   "execution_count": null,
   "metadata": {},
   "outputs": [],
   "source": []
  }
 ],
 "metadata": {
  "kernelspec": {
   "display_name": "Python 3.8.5 64-bit ('base': conda)",
   "name": "python385jvsc74a57bd07383003b210fdacca9bf7683d9d1d561f4a72c77adad40daede406a89507eb7d"
  },
  "language_info": {
   "codemirror_mode": {
    "name": "ipython",
    "version": 3
   },
   "file_extension": ".py",
   "mimetype": "text/x-python",
   "name": "python",
   "nbconvert_exporter": "python",
   "pygments_lexer": "ipython3",
   "version": "3.8.5"
  },
  "metadata": {
   "interpreter": {
    "hash": "62abdba18a5af63216677fd9809182d4d30d0131cee927ee8b1e01ef771e0b25"
   }
  },
  "orig_nbformat": 2
 },
 "nbformat": 4,
 "nbformat_minor": 2
}