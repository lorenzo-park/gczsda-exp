{
 "cells": [
  {
   "cell_type": "code",
   "execution_count": 1,
   "metadata": {},
   "outputs": [
    {
     "name": "stderr",
     "output_type": "stream",
     "text": [
      "Global seed set to 10\n"
     ]
    },
    {
     "data": {
      "text/plain": "10"
     },
     "execution_count": 1,
     "metadata": {},
     "output_type": "execute_result"
    }
   ],
   "source": [
    "from torch.utils.data import DataLoader\n",
    "from tqdm import tqdm\n",
    "\n",
    "import torch\n",
    "\n",
    "import pytorch_lightning as pl\n",
    "import torchvision.datasets as datasets\n",
    "import torchvision.transforms as transforms\n",
    "import matplotlib.pyplot as plt\n",
    "\n",
    "from dataset.digit import ChanDup, CENDataset\n",
    "from pl_module.gcada import LitGCADA\n",
    "\n",
    "pl.seed_everything(10)"
   ]
  },
  {
   "cell_type": "code",
   "execution_count": 2,
   "metadata": {},
   "outputs": [],
   "source": [
    "class GCADAConfig:\n",
    "    lambda_noise: None\n",
    "    device=\"cuda:1\"\n",
    "    \n",
    "    root=\"/shared/lorenzo/mnist-zsda/MNIST_G\"\n",
    "    root_tgt=\"/shared/lorenzo/mnist-zsda/MNIST_C\"\n",
    "    \n",
    "    model_name=\"gcada\"\n",
    "    backbone_name=\"lenet\"\n",
    "    \n",
    "    root_tgt_train=\"/shared/lorenzo/mnist-zsda/FashionMNIST_C\"\n",
    "    num_blocks=9\n",
    "    hidden_dim_dsc=64\n",
    "    lambda_idt=1.0\n",
    "    lambda_sem=0.0\n",
    "    transformation=\"rotate\"\n",
    "    beta1=0.5\n",
    "    pretrained=\"/root/dezsda/checkpoints/timm-lenet-epoch=03-task=digit-val_loss=0.0297.ckpt\"\n",
    "    fix_block_up=False\n",
    "    lambda_sem_idt=10.0\n",
    "    sem_idt_per_epoch=1\n",
    "\n",
    "    lr = 1e-3\n",
    "    optimizer = \"adam\"\n",
    "    batch_size = 64\n",
    "    max_epochs = 50\n",
    "    grad_accum = 1\n",
    "    es_patience = None\n",
    "    task=\"digit\"\n",
    "    img_size = 28\n",
    "    fold_no = 0\n",
    "    num_workers = 8\n",
    "    channels = 3\n",
    "    logger = True\n",
    "    seed = 42\n",
    "    project = \"csi-har\"\n",
    "    checkpoint_dir = \"/root/dezsda/checkpoints\"\n",
    "    gpus = 1\n",
    "    num_classes=10\n",
    "    num_test_sets=4\n",
    "\n",
    "    assert root.split(\"/\")[-1].split(\"_\")[0] == root_tgt.split(\"/\")[-1].split(\"_\")[0]\n",
    "    translated_dir=f\"/shared/lorenzo/mnist-zsda/{root.split('/')[-1].split('_')[0]}_{root.split('/')[-1].split('_')[-1]}{root_tgt.split('/')[-1].split('_')[-1]}\"\n",
    "    \n",
    "config = GCADAConfig()"
   ]
  },
  {
   "cell_type": "code",
   "execution_count": 3,
   "metadata": {},
   "outputs": [],
   "source": [
    "pl_model = LitGCADA.load_from_checkpoint(\"./checkpoints/gcada-lenet-epoch=00-task=digit-val_loss=0.0000.ckpt\", config=config)\n",
    "model = pl_model.model\n",
    "model.eval()\n",
    "\n",
    "transform = transforms.Compose([\n",
    "    # transforms.Resize(32),\n",
    "    transforms.CenterCrop((28, 28)),\n",
    "    transforms.ToTensor(),\n",
    "    transforms.Normalize(mean=[0.5], std=[0.5]),\n",
    "    ChanDup(),\n",
    "])\n",
    "\n",
    "dataset = datasets.MNIST(root=config.root, train=True, download=True, transform=transform)\n",
    "dataloader = DataLoader(dataset, batch_size=config.batch_size,\n",
    "                        shuffle=True, pin_memory=True, \n",
    "                        num_workers=config.num_workers, drop_last=True)"
   ]
  },
  {
   "cell_type": "code",
   "execution_count": 4,
   "metadata": {},
   "outputs": [
    {
     "name": "stderr",
     "output_type": "stream",
     "text": [
      "100%|██████████| 937/937 [00:10<00:00, 89.76it/s]\n"
     ]
    }
   ],
   "source": [
    "model = model.to(config.device)\n",
    "translated_inputs_train = None\n",
    "translated_targets_train = None\n",
    "for batch in tqdm(dataloader):\n",
    "    inputs_src, targets_src = batch\n",
    "    inputs_src = inputs_src.to(config.device)\n",
    "    targets_src = targets_src.to(config.device)\n",
    "\n",
    "    outputs = model.translate(inputs_src, random_noise=0.1)\n",
    "\n",
    "    if translated_inputs_train is not None:\n",
    "        translated_inputs_train = torch.cat([outputs.detach(), translated_inputs_train], dim=0)\n",
    "        translated_targets_train = torch.cat([targets_src.detach(), translated_targets_train], dim=0)\n",
    "    else:\n",
    "        translated_inputs_train = outputs\n",
    "        translated_targets_train = targets_src\n",
    "\n",
    "    del outputs\n",
    "    del targets_src"
   ]
  },
  {
   "cell_type": "code",
   "execution_count": 5,
   "metadata": {},
   "outputs": [],
   "source": [
    "dataset = CENDataset(root=config.root_tgt, train=False, transform=transform)\n",
    "dataloader = DataLoader(dataset, batch_size=config.batch_size,\n",
    "                        shuffle=True, pin_memory=True, \n",
    "                        num_workers=config.num_workers, drop_last=True)"
   ]
  },
  {
   "cell_type": "code",
   "execution_count": 6,
   "metadata": {},
   "outputs": [
    {
     "name": "stderr",
     "output_type": "stream",
     "text": [
      "100%|██████████| 156/156 [00:01<00:00, 88.97it/s] \n"
     ]
    }
   ],
   "source": [
    "model = model.to(config.device)\n",
    "translated_inputs_test = None\n",
    "translated_targets_test = None\n",
    "for batch in tqdm(dataloader):\n",
    "    inputs_src, targets_src = batch\n",
    "    inputs_src = inputs_src.to(config.device)\n",
    "    targets_src = targets_src.to(config.device)\n",
    "\n",
    "    outputs = model.translate(inputs_src)\n",
    "\n",
    "    if translated_inputs_test is not None:\n",
    "        translated_inputs_test = torch.cat([outputs.detach(), translated_inputs_test], dim=0)\n",
    "        translated_targets_test = torch.cat([targets_src.detach(), translated_targets_test], dim=0)\n",
    "    else:\n",
    "        translated_inputs_test = outputs\n",
    "        translated_targets_test = targets_src\n",
    "\n",
    "    del outputs\n",
    "    del targets_src"
   ]
  },
  {
   "cell_type": "code",
   "execution_count": 7,
   "metadata": {},
   "outputs": [],
   "source": [
    "# idx = 2\n",
    "# plt.imshow(translated_inputs[idx].permute(1,2,0).cpu().detach())\n",
    "# print(translated_targets[idx])"
   ]
  },
  {
   "cell_type": "code",
   "execution_count": 8,
   "metadata": {},
   "outputs": [],
   "source": [
    "data = {\n",
    "    \"train\": {\n",
    "        \"data\": translated_inputs_train.cpu().detach().numpy(), \n",
    "        \"targets\": translated_targets_train.cpu().detach().numpy(),\n",
    "    },\n",
    "    \"test\": {\n",
    "        \"data\": translated_inputs_test.cpu().detach().numpy(), \n",
    "        \"targets\": translated_targets_test.cpu().detach().numpy(),\n",
    "    }\n",
    "}"
   ]
  },
  {
   "cell_type": "code",
   "execution_count": 9,
   "metadata": {},
   "outputs": [],
   "source": [
    "import pickle\n",
    "import os\n",
    "\n",
    "os.makedirs(config.translated_dir, exist_ok=True)\n",
    "\n",
    "with open(os.path.join(config.translated_dir, \"data.pkl\"), \"wb\") as f:\n",
    "    pickle.dump(data, f)"
   ]
  },
  {
   "cell_type": "code",
   "execution_count": 10,
   "metadata": {},
   "outputs": [
    {
     "data": {
      "text/plain": "'completed'"
     },
     "execution_count": 10,
     "metadata": {},
     "output_type": "execute_result"
    }
   ],
   "source": [
    "\"completed\""
   ]
  },
  {
   "cell_type": "code",
   "execution_count": null,
   "metadata": {},
   "outputs": [],
   "source": []
  }
 ],
 "metadata": {
  "kernelspec": {
   "display_name": "Python 3.7.10 64-bit ('tubuki': conda)",
   "name": "python3710jvsc74a57bd062abdba18a5af63216677fd9809182d4d30d0131cee927ee8b1e01ef771e0b25"
  },
  "language_info": {
   "codemirror_mode": {
    "name": "ipython",
    "version": 3
   },
   "file_extension": ".py",
   "mimetype": "text/x-python",
   "name": "python",
   "nbconvert_exporter": "python",
   "pygments_lexer": "ipython3",
   "version": "3.7.10"
  },
  "metadata": {
   "interpreter": {
    "hash": "62abdba18a5af63216677fd9809182d4d30d0131cee927ee8b1e01ef771e0b25"
   }
  },
  "orig_nbformat": 2
 },
 "nbformat": 4,
 "nbformat_minor": 2
}